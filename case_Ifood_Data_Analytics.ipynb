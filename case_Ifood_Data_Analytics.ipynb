{
 "cells": [
  {
   "cell_type": "markdown",
   "metadata": {
    "id": "65I2I5zR0Qoj"
   },
   "source": [
    "## **Import das Bibliotecas e Configuração do PySpark**"
   ]
  },
  {
   "cell_type": "code",
   "execution_count": null,
   "metadata": {
    "id": "ryOy4SVeYPRU"
   },
   "outputs": [],
   "source": [
    "# Instalar as dependências\n",
    "!apt-get update -qq\n",
    "!apt-get install openjdk-8-jdk-headless -qq > /dev/null\n",
    "!wget -q https://archive.apache.org/dist/spark/spark-3.5.4/spark-3.5.4-bin-hadoop3.tgz\n",
    "!tar xf spark-3.5.4-bin-hadoop3.tgz\n",
    "!pip install -q findspark\n",
    "!pip install pyspark==3.4.0\n",
    "\n",
    "import os\n",
    "os.environ[\"JAVA_HOME\"] = \"/usr/lib/jvm/java-8-openjdk-amd64\"\n",
    "os.environ[\"SPARK_HOME\"] = \"/content/spark-3.5.4-bin-hadoop3\"\n",
    "import findspark\n",
    "findspark.init()\n",
    "\n",
    "import requests\n",
    "import tarfile\n",
    "import gzip\n",
    "import shutil\n",
    "import os\n",
    "from pyspark.sql import SparkSession"
   ]
  },
  {
   "cell_type": "code",
   "execution_count": null,
   "metadata": {
    "id": "WTQARPsYWePM"
   },
   "outputs": [],
   "source": [
    "spark = SparkSession.builder \\\n",
    "    .master('local[*]') \\\n",
    "    .appName(\"Iniciando com Spark\") \\\n",
    "    .config('spark.ui.port', '4050') \\\n",
    "    .getOrCreate()"
   ]
  },
  {
   "cell_type": "markdown",
   "metadata": {
    "id": "asK5614d0apC"
   },
   "source": [
    "# **ETL**"
   ]
  },
  {
   "cell_type": "code",
   "execution_count": 4,
   "metadata": {
    "id": "e6s2a9mzWfep"
   },
   "outputs": [],
   "source": [
    "def load_raw_data(url: str, nome_arquivo: str):\n",
    "    \"\"\"\n",
    "    Baixa, descompacta e lê arquivos grandes (.json.gz, .csv.gz, .tar.gz) usando PySpark.\n",
    "\n",
    "    Parâmetros:\n",
    "        url (str): URL do arquivo\n",
    "        nome_arquivo (str): Nome do arquivo a ser salvo localmente\n",
    "\n",
    "    Retorna:\n",
    "        pyspark.sql.DataFrame: DataFrame carregado com PySpark\n",
    "    \"\"\"\n",
    "    # Baixar o arquivo\n",
    "    response = requests.get(url)\n",
    "    with open(nome_arquivo, \"wb\") as f:\n",
    "        f.write(response.content)\n",
    "\n",
    "    df_spark = None\n",
    "\n",
    "    # .tar.gz: extrai e lê CSV\n",
    "    if nome_arquivo.endswith(\".tar.gz\"):\n",
    "        with tarfile.open(nome_arquivo, \"r:gz\") as tar:\n",
    "            membros_csv = [m for m in tar.getmembers() if m.name.endswith(\".csv\") and not m.name.startswith(\"._\")]\n",
    "            if len(membros_csv) != 1:\n",
    "                raise ValueError(f\"Esperado 1 CSV no tar.gz, encontrado: {[m.name for m in tar.getmembers()]}\")\n",
    "            membro = membros_csv[0]\n",
    "            tar.extract(membro)\n",
    "            caminho_csv = membro.name\n",
    "        df_spark = spark.read.csv(caminho_csv, header=True, inferSchema=True)\n",
    "        # os.remove(caminho_csv)\n",
    "\n",
    "    # .json.gz\n",
    "    elif nome_arquivo.endswith(\".json.gz\"):\n",
    "        # Spark lê gzip direto\n",
    "        df_spark = spark.read.json(nome_arquivo, multiLine=False)\n",
    "\n",
    "    # .csv.gz\n",
    "    elif nome_arquivo.endswith(\".csv.gz\"):\n",
    "        df_spark = spark.read.csv(nome_arquivo, header=True, inferSchema=True)\n",
    "\n",
    "    else:\n",
    "        raise ValueError(\"Formato de arquivo não suportado. Use .json.gz, .csv.gz ou .tar.gz\")\n",
    "\n",
    "    # Limpar arquivo original\n",
    "    # os.remove(nome_arquivo)\n",
    "\n",
    "    return df_spark"
   ]
  },
  {
   "cell_type": "markdown",
   "metadata": {
    "id": "Lh-Q1xv_0fc8"
   },
   "source": [
    "**Dataset Pedidos**\n",
    "\n",
    "Contém dados de cerca de 3.6 milhões de pedidos realizados entre dez/18 e\n",
    "jan/19. Cada pedido possui um order_id e os seguintes atributos complementares:\n",
    "\n",
    "- cpf (string): Cadastro de Pessoa Física do usuário que realizou o pedido\n",
    "- customer_id (string): Identificador do usuário\n",
    "- customer_name (string): Primeiro nome do usuário\n",
    "- delivery_address_city (string): Cidade de entrega do pedido\n",
    "- delivery_address_country (string): País da entrega\n",
    "- delivery_address_district (string): Bairro da entrega\n",
    "- delivery_address_external_id (string): Identificador do endereço\n",
    "de entrega\n",
    "- delivery_address_latitude (float): Latitude do endereço de entrega\n",
    "- delivery_address_longitude (float): Longitude do endereço de\n",
    "entrega\n",
    "- delivery_address_state (string): Estado da entrega\n",
    "- delivery_address_zip_code (string): CEP da entrega\n",
    "- items (array[json]): Itens que compõem o pedido, bem como informações\n",
    "complementares como preço unitário, quantidade, etc.\n",
    "- merchant_id (string): Identificador do restaurante\n",
    "- merchant_latitude (float): Latitude do restaurante\n",
    "- merchant_longitude (float): Longitude do restaurante\n",
    "- merchant_timezone (string): Fuso horário em que o restaurante está\n",
    "localizado\n",
    "- order_created_at (timestamp): Data e hora em que o pedido foi criado\n",
    "- order_id (string): Identificador do pedido\n",
    "- order_scheduled (bool): Flag indicando se o pedido foi agendado ou\n",
    "não (pedidos agendados são aqueles que o usuário escolheu uma data\n",
    "e hora para a entrega)\n",
    "- order_total_amount (float): Valor total do pedido em Reais\n",
    "- origin_platform (string): Sistema operacional do dispositivo do\n",
    "usuário\n",
    "- order_scheduled_date (timestamp): Data e horário para entrega do\n",
    "pedido agendado\n"
   ]
  },
  {
   "cell_type": "code",
   "execution_count": 5,
   "metadata": {
    "colab": {
     "base_uri": "https://localhost:8080/"
    },
    "id": "Nt0_JkRMXP_3",
    "outputId": "c0833b58-ddee-4489-fc52-b83716c74be0"
   },
   "outputs": [
    {
     "name": "stdout",
     "output_type": "stream",
     "text": [
      "+-----------+--------------------+-------------+---------------------+------------------------+-------------------------+----------------------------+-------------------------+--------------------------+----------------------+-------------------------+--------------------+--------------------+-----------------+------------------+-----------------+--------------------+--------------------+---------------+--------------------+------------------+---------------+\n",
      "|        cpf|         customer_id|customer_name|delivery_address_city|delivery_address_country|delivery_address_district|delivery_address_external_id|delivery_address_latitude|delivery_address_longitude|delivery_address_state|delivery_address_zip_code|               items|         merchant_id|merchant_latitude|merchant_longitude|merchant_timezone|    order_created_at|            order_id|order_scheduled|order_scheduled_date|order_total_amount|origin_platform|\n",
      "+-----------+--------------------+-------------+---------------------+------------------------+-------------------------+----------------------------+-------------------------+--------------------------+----------------------+-------------------------+--------------------+--------------------+-----------------+------------------+-----------------+--------------------+--------------------+---------------+--------------------+------------------+---------------+\n",
      "|80532101763|7ba88a68bb2a3504c...|      GUSTAVO|               FRANCA|                      BR|         JARDIM ESPRAIADO|                     6736655|                   -47.39|                    -20.55|                    SP|                    14403|[{\"name\": \"Parmeg...|a992a079a651e699d...|           -47.39|            -20.55|America/Sao_Paulo|2019-01-17T22:50:...|33e0612d62e5eb42a...|          false|                NULL|              46.0|        ANDROID|\n",
      "|43352103961|078acecdcf7fa89d3...|     MICHELLE|               SANTOS|                      BR|             CAMPO GRANDE|                     8759216|                   -46.34|                    -23.96|                    SP|                    11070|[{\"name\": \"Filé M...|5152f28ee0518b880...|           -46.34|            -23.96|America/Sao_Paulo|2019-01-17T17:51:...|148c4353a2952f3fe...|          false|                NULL|             104.5|        ANDROID|\n",
      "|38650991217|0e38a3237b5946e8a...|       VICTOR|            GUARULHOS|                      BR|             JARDIM ROSSI|                     8765930|                   -46.53|                    -23.44|                    SP|                    71304|[{\"name\": \"GRANDE...|b6096419455c35d06...|           -46.53|            -23.44|America/Sao_Paulo|2019-01-17T22:53:...|c37e495a91b498bb7...|          false|                NULL|              35.0|            IOS|\n",
      "|63579726866|cab1a004b7206d079...|        ANNIE|            SAO PAULO|                      BR|         PARQUE SAO JORGE|                     7834087|                   -46.57|                    -23.53|                    SP|                    30870|[{\"name\": \"CALABR...|082bfdcdf6ccdc343...|           -46.57|            -23.53|America/Sao_Paulo|2019-01-17T23:56:...|b4df94142d2135461...|          false|                NULL|              40.8|            IOS|\n",
      "|90617788806|aa7edf5b166b8c843...|       DANIEL|              VITORIA|                      BR|           JARDIM CAMBURI|                     7211683|                   -40.27|                    -20.25|                    ES|                    29090|[{\"name\": \"GRANDE...|d7adb764bac29ccb7...|           -40.27|            -20.25|America/Sao_Paulo|2019-01-17T23:40:...|4ff64b33b272c1886...|          false|                NULL|              48.5|        ANDROID|\n",
      "+-----------+--------------------+-------------+---------------------+------------------------+-------------------------+----------------------------+-------------------------+--------------------------+----------------------+-------------------------+--------------------+--------------------+-----------------+------------------+-----------------+--------------------+--------------------+---------------+--------------------+------------------+---------------+\n",
      "only showing top 5 rows\n",
      "\n"
     ]
    }
   ],
   "source": [
    "url = \"https://data-architect-test-source.s3-sa-east-1.amazonaws.com/order.json.gz\"\n",
    "df_order = load_raw_data(url, \"order.json.gz\")\n",
    "df_order.show(5)"
   ]
  },
  {
   "cell_type": "code",
   "execution_count": 6,
   "metadata": {
    "colab": {
     "base_uri": "https://localhost:8080/"
    },
    "id": "uRA8UmUtZn50",
    "outputId": "a8fe70d7-19cd-46f0-9e8e-e00764eda653"
   },
   "outputs": [
    {
     "data": {
      "text/plain": [
       "3670826"
      ]
     },
     "execution_count": 6,
     "metadata": {},
     "output_type": "execute_result"
    }
   ],
   "source": [
    "df_order.count()"
   ]
  },
  {
   "cell_type": "code",
   "execution_count": 7,
   "metadata": {
    "colab": {
     "base_uri": "https://localhost:8080/"
    },
    "id": "O2NPxIlH1pDj",
    "outputId": "e48410f5-75b7-4a02-ef6b-d6fc9ce93f29"
   },
   "outputs": [
    {
     "name": "stdout",
     "output_type": "stream",
     "text": [
      "+--------------------+---+\n",
      "|            order_id|qtd|\n",
      "+--------------------+---+\n",
      "|00017ff9feba98f3b...|  2|\n",
      "|000debad1353b56e9...|  2|\n",
      "|0019c69a93442a129...|  2|\n",
      "|001c71aabf4112ea5...|  2|\n",
      "|003ab5d27d4993420...|  2|\n",
      "|004d108aa37ce0477...|  2|\n",
      "|0058deaa9eee5587a...|  2|\n",
      "|005d5d6fdbb669114...|  2|\n",
      "|006457f74148ce726...|  2|\n",
      "|0074b105df89a0011...|  2|\n",
      "|00772bcaafb99834b...|  2|\n",
      "|00773a80b79265e72...|  2|\n",
      "|0084580cc420dda94...|  2|\n",
      "|0090d695cbaf20e31...|  2|\n",
      "|009e50c9eaf7f9452...|  2|\n",
      "|00a65df0cff849d61...|  2|\n",
      "|00aa39c9edc0b97c4...|  2|\n",
      "|00afc228bc3a908fc...|  2|\n",
      "|00be74bed4ad2e83e...|  2|\n",
      "|00c6bb3ea61073042...|  2|\n",
      "+--------------------+---+\n",
      "only showing top 20 rows\n",
      "\n"
     ]
    }
   ],
   "source": [
    "from pyspark.sql.functions import count\n",
    "\n",
    "# Verificando se há pedidos duplicados\n",
    "\n",
    "# Agrupar por order_id e faz uma contagem()\n",
    "df_duplicados = df_order.groupBy(\"order_id\") \\\n",
    "    .agg(count(\"*\").alias(\"qtd\")) \\\n",
    "    .filter(\"qtd > 1\")\n",
    "\n",
    "# Mostra duplicados (se houver)\n",
    "df_duplicados.show()"
   ]
  },
  {
   "cell_type": "code",
   "execution_count": 8,
   "metadata": {
    "colab": {
     "base_uri": "https://localhost:8080/"
    },
    "id": "aYP8U_ZbWzEH",
    "outputId": "ad441ea5-b3d4-4db1-f1ce-3875bf5e7f23"
   },
   "outputs": [
    {
     "name": "stdout",
     "output_type": "stream",
     "text": [
      "+--------------------+-----------+--------------------+-------------+---------------------+------------------------+-------------------------+----------------------------+-------------------------+--------------------------+----------------------+-------------------------+--------------------+--------------------+-----------------+------------------+-----------------+--------------------+---------------+--------------------+------------------+---------------+---+\n",
      "|            order_id|        cpf|         customer_id|customer_name|delivery_address_city|delivery_address_country|delivery_address_district|delivery_address_external_id|delivery_address_latitude|delivery_address_longitude|delivery_address_state|delivery_address_zip_code|               items|         merchant_id|merchant_latitude|merchant_longitude|merchant_timezone|    order_created_at|order_scheduled|order_scheduled_date|order_total_amount|origin_platform|qtd|\n",
      "+--------------------+-----------+--------------------+-------------+---------------------+------------------------+-------------------------+----------------------------+-------------------------+--------------------------+----------------------+-------------------------+--------------------+--------------------+-----------------+------------------+-----------------+--------------------+---------------+--------------------+------------------+---------------+---+\n",
      "|00000b67fac8e2e29...|11617322723|4a5eac97fcc0d8073...|          LÍV|  SAO JOSE DOS CAMPOS|                      BR|          JARDIM PAULISTA|                     5703370|                   -45.87|                    -23.19|                    SP|                    12215|[{\"name\": \"Combo ...|1a6dfd9abd3bdf47d...|           -45.87|            -23.19|America/Sao_Paulo|2019-01-05T23:56:...|          false|                NULL|              35.9|        ANDROID|  2|\n",
      "|00000b67fac8e2e29...|09998377521|4a5eac97fcc0d8073...|          LÍV|  SAO JOSE DOS CAMPOS|                      BR|          JARDIM PAULISTA|                     5703370|                   -45.87|                    -23.19|                    SP|                    12215|[{\"name\": \"Combo ...|1a6dfd9abd3bdf47d...|           -45.87|            -23.19|America/Sao_Paulo|2018-12-06T23:56:...|          false|                NULL|              35.9|        ANDROID|  2|\n",
      "|00000fa3ee5165ced...|48407845939|c1c7126ad0d6ca68e...|          ANA|       BELO HORIZONTE|                      BR|              NOVA SUISSA|                     9023992|                   -43.98|                    -19.93|                    MG|                    30421|[{\"name\": \"Lombo ...|9b9a1db6774b8d49d...|           -43.98|            -19.93|America/Sao_Paulo|2019-01-25T00:33:...|          false|                NULL|             25.42|            IOS|  2|\n",
      "|00000fa3ee5165ced...|00939442255|c1c7126ad0d6ca68e...|          ANA|       BELO HORIZONTE|                      BR|              NOVA SUISSA|                     9023992|                   -43.98|                    -19.93|                    MG|                    30421|[{\"name\": \"Lombo ...|9b9a1db6774b8d49d...|           -43.98|            -19.93|America/Sao_Paulo|2018-12-26T00:33:...|          false|                NULL|             25.42|            IOS|  2|\n",
      "|0000226b0983a454e...|77024981760|daa25fa7b34ed201f...|     THAMIRES|             SAO JOSE|                      BR|            FORQUILHINHAS|                     8796131|                   -48.64|                    -27.59|                    SC|                    88106|[{\"name\": \"Bife B...|dcb6dcdf1629fffab...|           -48.64|            -27.59|America/Sao_Paulo|2019-01-23T23:30:...|          false|                NULL|              37.5|        ANDROID|  2|\n",
      "|0000226b0983a454e...|68600842117|daa25fa7b34ed201f...|     THAMIRES|             SAO JOSE|                      BR|            FORQUILHINHAS|                     8796131|                   -48.64|                    -27.59|                    SC|                    88106|[{\"name\": \"Bife B...|dcb6dcdf1629fffab...|           -48.64|            -27.59|America/Sao_Paulo|2018-12-24T23:30:...|          false|                NULL|              37.5|        ANDROID|  2|\n",
      "|00002c7ba1ce44fed...|86688139192|adea82755658a9e87...|     VICTÓRIA|        FLORIANOPOLIS|                      BR|                 TRINDADE|                     9082978|                   -48.52|                    -27.59|                    SC|                    88036|[{\"name\": \"Calabr...|b2569080d54a058e5...|           -48.52|            -27.59|America/Sao_Paulo|2019-01-17T22:19:...|          false|                NULL|              29.5|            IOS|  2|\n",
      "|00002c7ba1ce44fed...|00480737631|adea82755658a9e87...|     VICTÓRIA|        FLORIANOPOLIS|                      BR|                 TRINDADE|                     9082978|                   -48.52|                    -27.59|                    SC|                    88036|[{\"name\": \"Calabr...|b2569080d54a058e5...|           -48.52|            -27.59|America/Sao_Paulo|2018-12-18T22:19:...|          false|                NULL|              29.5|            IOS|  2|\n",
      "|0000438bc9201fcb3...|95279027565|609d8e3978b79e482...|      EDUARDO|            SAO PAULO|                      BR|                 PERDIZES|                     2014065|                   -46.67|                    -23.54|                    SP|                    50140|[{\"name\": \"Uma pi...|92c1d4246ae9de825...|           -46.67|            -23.54|America/Sao_Paulo|2019-01-06T23:05:...|          false|                NULL|              60.0|            IOS|  2|\n",
      "|0000438bc9201fcb3...|95390637688|609d8e3978b79e482...|      EDUARDO|            SAO PAULO|                      BR|                 PERDIZES|                     2014065|                   -46.67|                    -23.54|                    SP|                    50140|[{\"name\": \"Uma pi...|92c1d4246ae9de825...|           -46.67|            -23.54|America/Sao_Paulo|2018-12-07T23:05:...|          false|                NULL|              60.0|            IOS|  2|\n",
      "|000052bf31bab2f3a...|54697292576|875bdfb8f3f234124...|         JOZY|          SANTO ANDRE|                      BR|          PARQUE ORATORIO|                     8940479|                   -46.51|                    -23.63|                    SP|                    92510|[{\"name\": \"GRANDE...|b313982ef045704cc...|           -46.51|            -23.63|America/Sao_Paulo|2019-01-28T22:45:...|          false|                NULL|              36.5|            IOS|  2|\n",
      "|000052bf31bab2f3a...|37035660807|875bdfb8f3f234124...|         JOZY|          SANTO ANDRE|                      BR|          PARQUE ORATORIO|                     8940479|                   -46.51|                    -23.63|                    SP|                    92510|[{\"name\": \"GRANDE...|b313982ef045704cc...|           -46.51|            -23.63|America/Sao_Paulo|2018-12-29T22:45:...|          false|                NULL|              36.5|            IOS|  2|\n",
      "|000061ade15ffd6a3...|80648531408|8fc2b1806f100998a...|       GERSON|            FORTALEZA|                      BR|                  ALDEOTA|                     6363201|                   -38.50|                     -3.74|                    CE|                    60125|[{\"name\": \"Refrig...|4200c9ec0470464ac...|           -38.50|             -3.74|America/Fortaleza|2019-01-29T21:51:...|          false|                NULL|             121.3|            IOS|  2|\n",
      "|000061ade15ffd6a3...|50254232901|8fc2b1806f100998a...|       GERSON|            FORTALEZA|                      BR|                  ALDEOTA|                     6363201|                   -38.50|                     -3.74|                    CE|                    60125|[{\"name\": \"Refrig...|4200c9ec0470464ac...|           -38.50|             -3.74|America/Fortaleza|2018-12-30T21:51:...|          false|                NULL|             121.3|            IOS|  2|\n",
      "|00009005e585d987a...|48760995030|7f7deb42616e2ad98...|      VANESSA|       RIO DE JANEIRO|                      BR|              VILA ISABEL|                     6030012|                   -43.25|                    -22.92|                    RJ|                    20560|[{\"name\": \"Morang...|81972c1fae57500a1...|           -43.25|            -22.92|America/Sao_Paulo|2019-01-29T20:32:...|          false|                NULL|              19.9|  WINDOWS_PHONE|  2|\n",
      "|00009005e585d987a...|89296213926|7f7deb42616e2ad98...|      VANESSA|       RIO DE JANEIRO|                      BR|              VILA ISABEL|                     6030012|                   -43.25|                    -22.92|                    RJ|                    20560|[{\"name\": \"Morang...|81972c1fae57500a1...|           -43.25|            -22.92|America/Sao_Paulo|2018-12-30T20:32:...|          false|                NULL|              19.9|  WINDOWS_PHONE|  2|\n",
      "|0000921a2f658253c...|61499065521|ea078911686f1b1fd...|      MARIANA|              GOIANIA|                      BR|              SETOR BUENO|                     9018658|                   -49.27|                    -16.72|                    GO|                    74230|[{\"name\": \"ROL. Q...|1e2c6a730305b2cef...|           -49.27|            -16.72|America/Sao_Paulo|2019-01-09T16:07:...|          false|                NULL|              31.4|            IOS|  2|\n",
      "|0000921a2f658253c...|56636607728|ea078911686f1b1fd...|      MARIANA|              GOIANIA|                      BR|              SETOR BUENO|                     9018658|                   -49.27|                    -16.72|                    GO|                    74230|[{\"name\": \"ROL. Q...|1e2c6a730305b2cef...|           -49.27|            -16.72|America/Sao_Paulo|2018-12-10T16:07:...|          false|                NULL|              31.4|            IOS|  2|\n",
      "|0000b0ad44e908b19...|30171764226|7bbf1b2e6d8159422...|          ANA|            SAO PAULO|                      BR|               CONSOLACAO|                     9544775|                   -46.65|                    -23.55|                    SP|                    13040|[{\"name\": \"YAKISO...|05346daf96a59709a...|           -46.65|            -23.55|America/Sao_Paulo|2018-12-31T22:29:...|          false|                NULL|              24.7|            IOS|  2|\n",
      "|0000b0ad44e908b19...|61241497540|7bbf1b2e6d8159422...|          ANA|            SAO PAULO|                      BR|               CONSOLACAO|                     9544775|                   -46.65|                    -23.55|                    SP|                    13040|[{\"name\": \"YAKISO...|05346daf96a59709a...|           -46.65|            -23.55|America/Sao_Paulo|2019-01-30T22:29:...|          false|                NULL|              24.7|            IOS|  2|\n",
      "+--------------------+-----------+--------------------+-------------+---------------------+------------------------+-------------------------+----------------------------+-------------------------+--------------------------+----------------------+-------------------------+--------------------+--------------------+-----------------+------------------+-----------------+--------------------+---------------+--------------------+------------------+---------------+---+\n",
      "only showing top 20 rows\n",
      "\n"
     ]
    }
   ],
   "source": [
    "df_registros_duplicados = df_order.join(df_duplicados, on=\"order_id\", how=\"inner\").orderBy(\"order_id\")\n",
    "df_registros_duplicados.show()"
   ]
  },
  {
   "cell_type": "code",
   "execution_count": 9,
   "metadata": {
    "colab": {
     "base_uri": "https://localhost:8080/"
    },
    "id": "qwl64zb3dYTK",
    "outputId": "e9bf5eb4-976b-43c6-d31d-af3a5dd81f92"
   },
   "outputs": [
    {
     "name": "stdout",
     "output_type": "stream",
     "text": [
      "+--------+---+\n",
      "|order_id|qtd|\n",
      "+--------+---+\n",
      "+--------+---+\n",
      "\n"
     ]
    }
   ],
   "source": [
    "from pyspark.sql.window import Window\n",
    "from pyspark.sql.functions import row_number, col\n",
    "\n",
    "# Há registros de pedidos duplicados, com CPF diferente e data do pedido diferente\n",
    "# Vamos remover a coluna cpf (não necessária para a análise) e manter o registro mais recente de acordo com 'order_created_at'\n",
    "\n",
    "# Remover a coluna 'cpf'\n",
    "df_sem_cpf = df_order.drop(\"cpf\")\n",
    "\n",
    "# Criar janela particionando por colunas duplicadas (todas menos 'order_created_at')\n",
    "# Obtemos o nome de todas as colunas (sem cpf e sem order_created_at)\n",
    "chaves_particionamento = [c for c in df_sem_cpf.columns if c != \"order_created_at\"]\n",
    "\n",
    "# Definir janela para manter o mais recente por 'order_created_at'\n",
    "janela = Window.partitionBy(chaves_particionamento).orderBy(col(\"order_created_at\").desc())\n",
    "\n",
    "# Adicionar row_number e filtrar apenas o primeiro (mais recente)\n",
    "df_order_deduplicado = df_sem_cpf.withColumn(\"row_num\", row_number().over(janela)) \\\n",
    "                           .filter(col(\"row_num\") == 1) \\\n",
    "                           .drop(\"row_num\")\n",
    "\n",
    "# Agrupar por customer_id e contar\n",
    "df_duplicados = df_order_deduplicado.groupBy(\"order_id\") \\\n",
    "    .agg(count(\"*\").alias(\"qtd\")) \\\n",
    "    .filter(\"qtd > 1\")\n",
    "\n",
    "# Mostrar duplicados (se houver)\n",
    "df_duplicados.show()"
   ]
  },
  {
   "cell_type": "code",
   "execution_count": 10,
   "metadata": {
    "colab": {
     "base_uri": "https://localhost:8080/"
    },
    "id": "YM-kyIB82Osv",
    "outputId": "80d6cddd-b65c-4b66-b144-9a82f1f2aa2a"
   },
   "outputs": [
    {
     "name": "stdout",
     "output_type": "stream",
     "text": [
      "+-----------+-------------+---------------------+------------------------+-------------------------+----------------------------+-------------------------+--------------------------+----------------------+-------------------------+--------------------+--------------------+-----------------+------------------+-----------------+--------------------+--------------------+---------------+--------------------+------------------+---------------+\n",
      "|customer_id|customer_name|delivery_address_city|delivery_address_country|delivery_address_district|delivery_address_external_id|delivery_address_latitude|delivery_address_longitude|delivery_address_state|delivery_address_zip_code|               items|         merchant_id|merchant_latitude|merchant_longitude|merchant_timezone|    order_created_at|            order_id|order_scheduled|order_scheduled_date|order_total_amount|origin_platform|\n",
      "+-----------+-------------+---------------------+------------------------+-------------------------+----------------------------+-------------------------+--------------------------+----------------------+-------------------------+--------------------+--------------------+-----------------+------------------+-----------------+--------------------+--------------------+---------------+--------------------+------------------+---------------+\n",
      "|       NULL|       ADOLFO|             CURITIBA|                      BR|               HUGO LANGE|                     3662952|                   -49.25|                    -25.42|                    PR|                    80040|[{\"name\": \"GRANDE...|e9ce0e716eb6bfb62...|           -49.25|            -25.42|America/Sao_Paulo|2019-01-21T00:12:...|979a81178fcb9b55e...|          false|                NULL|              52.0|            IOS|\n",
      "|       NULL|      ADRIANO|             BRASILIA|                      BR|                ASA NORTE|                     8265397|                   -47.89|                    -15.74|                    DF|                    70873|[{\"name\": \"Cervej...|38b3840af819ca7bb...|           -47.89|            -15.74|America/Sao_Paulo|2019-01-07T22:06:...|13eb26a70cd0b25d6...|          false|                NULL|              95.5|        ANDROID|\n",
      "|       NULL|      ADRIANO|             BRASILIA|                      BR|                ASA NORTE|                     8869308|                   -47.89|                    -15.74|                    DF|                    70873|[{\"name\": \"STROGO...|0b4eed78169c78182...|           -47.89|            -15.74|America/Sao_Paulo|2019-01-13T23:17:...|49fbfdfc91aa9504f...|          false|                NULL|              41.8|        DESKTOP|\n",
      "|       NULL|    ALEXANDRE|          JOAO PESSOA|                      BR|                   TAMBAU|                     5181095|                   -34.83|                     -7.11|                    PB|                    58039|[{\"name\": \"290 BA...|4b30401bef356e8a5...|           -34.83|             -7.11|America/Fortaleza|2019-01-15T00:11:...|fc33951c79caed499...|          false|                NULL|              50.2|        DESKTOP|\n",
      "|       NULL|    ALEXANDRE|            SAO PAULO|                      BR|               BELA VISTA|                     2251620|                   -46.64|                    -23.57|                    SP|                    13270|[{\"name\": \"Filett...|bc156f0ec4597210c...|           -46.64|            -23.57|America/Sao_Paulo|2019-01-14T18:31:...|85da9cf5c4bfce174...|          false|                NULL|             109.0|        DESKTOP|\n",
      "+-----------+-------------+---------------------+------------------------+-------------------------+----------------------------+-------------------------+--------------------------+----------------------+-------------------------+--------------------+--------------------+-----------------+------------------+-----------------+--------------------+--------------------+---------------+--------------------+------------------+---------------+\n",
      "only showing top 5 rows\n",
      "\n"
     ]
    }
   ],
   "source": [
    "df_order_deduplicado.show(5)"
   ]
  },
  {
   "cell_type": "code",
   "execution_count": 11,
   "metadata": {
    "colab": {
     "base_uri": "https://localhost:8080/"
    },
    "id": "YMJvvP3B2O5L",
    "outputId": "7e0db001-cc7a-4930-f8e6-11022fb2de4e"
   },
   "outputs": [
    {
     "data": {
      "text/plain": [
       "5559"
      ]
     },
     "execution_count": 11,
     "metadata": {},
     "output_type": "execute_result"
    }
   ],
   "source": [
    "# Verificando se há valores nulos em customer_id\n",
    "df_order_deduplicado.filter(col(\"customer_id\").isNull()).count()"
   ]
  },
  {
   "cell_type": "code",
   "execution_count": 26,
   "metadata": {
    "colab": {
     "base_uri": "https://localhost:8080/"
    },
    "id": "0XQ_4mAm67RH",
    "outputId": "be9f48d2-bcb2-4817-c6f4-2effae32d5ed"
   },
   "outputs": [
    {
     "data": {
      "text/plain": [
       "2427415"
      ]
     },
     "execution_count": 26,
     "metadata": {},
     "output_type": "execute_result"
    }
   ],
   "source": [
    "# Excluindo os valores nulos de customer_id (não será possivel relacioná-los com as outras tabelas)\n",
    "df_order_deduplicado = df_order_deduplicado.filter(col(\"customer_id\").isNotNull())\n",
    "df_order_deduplicado.count()"
   ]
  },
  {
   "cell_type": "code",
   "execution_count": null,
   "metadata": {
    "id": "4LodhpA667ZV"
   },
   "outputs": [],
   "source": [
    "# Dataset Original -> 3.670.826\n",
    "# Dataset Deduplicado -> 2.427.415"
   ]
  },
  {
   "cell_type": "markdown",
   "metadata": {
    "id": "afOryVE91GHb"
   },
   "source": [
    "### **Dataset Usuários**\n",
    "\n",
    "Contém dados de cerca de 806k usuários do iFood. Cada usuário possui um\n",
    "customer_id e os seguintes atributos complementares:\n",
    "\n",
    "- customer_id (string): Identificador do usuário\n",
    "- language (string): Idioma do usuário\n",
    "- created_at (timestamp): Data e hora em que o usuário foi criado\n",
    "- active (bool): Flag indicando se o usuário está ativo ou não\n",
    "- customer_name (string): Primeiro nome do usuário\n",
    "- customer_phone_area (string): Código de área do telefone do usuário\n",
    "- customer_phone_number (string): Número do telefone do usuário"
   ]
  },
  {
   "cell_type": "code",
   "execution_count": 12,
   "metadata": {
    "colab": {
     "base_uri": "https://localhost:8080/"
    },
    "id": "yGSYcHmNXLxl",
    "outputId": "60a4108f-0ebd-4b02-bac8-1d9a9c085f89"
   },
   "outputs": [
    {
     "name": "stdout",
     "output_type": "stream",
     "text": [
      "+--------------------+--------+--------------------+------+-------------+-------------------+---------------------+\n",
      "|         customer_id|language|          created_at|active|customer_name|customer_phone_area|customer_phone_number|\n",
      "+--------------------+--------+--------------------+------+-------------+-------------------+---------------------+\n",
      "|e8cc60860e09c0bb1...|   pt-br|2018-04-05 14:49:...|  true|         NUNO|                 46|            816135924|\n",
      "|a2834a38a9876cf74...|   pt-br|2018-01-14 21:40:...|  true|     ADRIELLY|                 59|            231330577|\n",
      "|41e1051728eba1334...|   pt-br|2018-01-07 03:47:...|  true|        PAULA|                 62|            347597883|\n",
      "|8e7c1dcb64edf95c9...|   pt-br|2018-01-10 22:17:...|  true|       HELTON|                 13|            719366842|\n",
      "|7823d4cf4150c5dae...|   pt-br|2018-04-06 00:16:...|  true|       WENDER|                 76|            543232158|\n",
      "+--------------------+--------+--------------------+------+-------------+-------------------+---------------------+\n",
      "only showing top 5 rows\n",
      "\n"
     ]
    }
   ],
   "source": [
    "url = \"https://data-architect-test-source.s3-sa-east-1.amazonaws.com/consumer.csv.gz\"\n",
    "df_consumer = load_raw_data(url, \"consumer.csv.gz\")\n",
    "df_consumer.show(5)"
   ]
  },
  {
   "cell_type": "code",
   "execution_count": 13,
   "metadata": {
    "colab": {
     "base_uri": "https://localhost:8080/"
    },
    "id": "m-BxkS5n8zCr",
    "outputId": "e55fad94-f3da-4e38-b652-bac908cb9382"
   },
   "outputs": [
    {
     "name": "stdout",
     "output_type": "stream",
     "text": [
      "+-----------+---+\n",
      "|customer_id|qtd|\n",
      "+-----------+---+\n",
      "+-----------+---+\n",
      "\n"
     ]
    }
   ],
   "source": [
    "# Verificando duplicidade em customer_id\n",
    "df_duplicados = df_consumer.groupBy(\"customer_id\") \\\n",
    "    .agg(count(\"*\").alias(\"qtd\")) \\\n",
    "    .filter(\"qtd > 1\")\n",
    "\n",
    "# Mostrar duplicados (se houver)\n",
    "df_duplicados.show()"
   ]
  },
  {
   "cell_type": "code",
   "execution_count": 14,
   "metadata": {
    "colab": {
     "base_uri": "https://localhost:8080/"
    },
    "id": "n2XSG6Fl8zG7",
    "outputId": "70f63a71-eeff-404e-df48-d60f1b5c35c6"
   },
   "outputs": [
    {
     "data": {
      "text/plain": [
       "0"
      ]
     },
     "execution_count": 14,
     "metadata": {},
     "output_type": "execute_result"
    }
   ],
   "source": [
    "# Verificando nulos em customer_id\n",
    "df_consumer.filter(col(\"customer_id\").isNull()).count()"
   ]
  },
  {
   "cell_type": "code",
   "execution_count": 15,
   "metadata": {
    "colab": {
     "base_uri": "https://localhost:8080/"
    },
    "id": "vFOPUAxW8zM4",
    "outputId": "508abb16-0e74-4e59-de92-d69fca73a325"
   },
   "outputs": [
    {
     "data": {
      "text/plain": [
       "806156"
      ]
     },
     "execution_count": 15,
     "metadata": {},
     "output_type": "execute_result"
    }
   ],
   "source": [
    "df_consumer.count()"
   ]
  },
  {
   "cell_type": "markdown",
   "metadata": {
    "id": "QOtk3NF31Rk2"
   },
   "source": [
    "###**Dataset Restaurantes**\n",
    "\n",
    "Contém dados de cerca de 7k restaurantes do iFood. Cada restaurante possui\n",
    "um id e os seguintes atributos complementares:\n",
    "\n",
    "- id (string): Identificador do restaurante\n",
    "- created_at (timestamp): Data e hora em que o restaurante foi criado\n",
    "- enabled (bool): Flag indicando se o restaurante está ativo no iFood ou\n",
    "não\n",
    "- price_range (int): Classificação de preço do restaurante\n",
    "- average_ticket (float): Ticket médio dos pedidos no restaurante\n",
    "- delivery_time (float): Tempo padrão de entrega para pedidos no restaurante\n",
    "- minimum_order_value (float): Valor mínimo para pedidos no restaurante\n",
    "- merchant_zip_code (string): CEP do restaurante\n",
    "- merchant_city (string): Cidade do restaurante\n",
    "- merchant_state (string): Estado do restaurante\n",
    "- merchant_country (string): País do restaurante"
   ]
  },
  {
   "cell_type": "code",
   "execution_count": 16,
   "metadata": {
    "colab": {
     "base_uri": "https://localhost:8080/"
    },
    "id": "q1dkQLYbynTj",
    "outputId": "22cb8e38-65af-4346-af55-62eec3ba02b3"
   },
   "outputs": [
    {
     "name": "stdout",
     "output_type": "stream",
     "text": [
      "+--------------------+--------------------+-------+-----------+--------------+------------+-------------+-------------------+-----------------+--------------+--------------+----------------+\n",
      "|                  id|          created_at|enabled|price_range|average_ticket|takeout_time|delivery_time|minimum_order_value|merchant_zip_code| merchant_city|merchant_state|merchant_country|\n",
      "+--------------------+--------------------+-------+-----------+--------------+------------+-------------+-------------------+-----------------+--------------+--------------+----------------+\n",
      "|d19ff6fca6288939b...|2017-01-23 12:52:...|  false|          3|          60.0|           0|           50|               30.0|            14025|RIBEIRAO PRETO|            SP|              BR|\n",
      "|631df0985fdbbaf27...|2017-01-20 13:14:...|   true|          3|          60.0|           0|            0|               30.0|            50180|     SAO PAULO|            SP|              BR|\n",
      "|135c5c4ae4c1ec1fd...|2017-01-23 12:46:...|   true|          5|         100.0|           0|           45|               10.0|            23090|RIO DE JANEIRO|            RJ|              BR|\n",
      "|d26f84c470451f752...|2017-01-20 13:15:...|   true|          3|          80.0|           0|            0|               18.9|            40255|      SALVADOR|            BA|              BR|\n",
      "|97b9884600ea71923...|2017-01-20 13:14:...|   true|          3|          60.0|           0|            0|               25.0|            64600|       BARUERI|            SP|              BR|\n",
      "+--------------------+--------------------+-------+-----------+--------------+------------+-------------+-------------------+-----------------+--------------+--------------+----------------+\n",
      "only showing top 5 rows\n",
      "\n"
     ]
    }
   ],
   "source": [
    "url = \"https://data-architect-test-source.s3-sa-east-1.amazonaws.com/restaurant.csv.gz\"\n",
    "df_merchants = load_raw_data(url, \"restaurant.csv.gz\")\n",
    "df_merchants.show(5)"
   ]
  },
  {
   "cell_type": "code",
   "execution_count": 17,
   "metadata": {
    "colab": {
     "base_uri": "https://localhost:8080/"
    },
    "id": "J6ujABIu9VHn",
    "outputId": "3262a4fd-b521-4faa-bac2-a61501e69647"
   },
   "outputs": [
    {
     "name": "stdout",
     "output_type": "stream",
     "text": [
      "+---+---+\n",
      "| id|qtd|\n",
      "+---+---+\n",
      "+---+---+\n",
      "\n"
     ]
    }
   ],
   "source": [
    "# Verificando duplicidade em id\n",
    "df_duplicados = df_merchants.groupBy(\"id\") \\\n",
    "    .agg(count(\"*\").alias(\"qtd\")) \\\n",
    "    .filter(\"qtd > 1\")\n",
    "\n",
    "# Mostrar duplicados (se houver)\n",
    "df_duplicados.show()"
   ]
  },
  {
   "cell_type": "code",
   "execution_count": 18,
   "metadata": {
    "colab": {
     "base_uri": "https://localhost:8080/"
    },
    "id": "eGtbBCGh9VP5",
    "outputId": "c5079753-f720-4cf4-84a7-7fe07c354e5e"
   },
   "outputs": [
    {
     "data": {
      "text/plain": [
       "0"
      ]
     },
     "execution_count": 18,
     "metadata": {},
     "output_type": "execute_result"
    }
   ],
   "source": [
    "# Verificando nulos em id\n",
    "df_merchants.filter(col(\"id\").isNull()).count()"
   ]
  },
  {
   "cell_type": "markdown",
   "metadata": {
    "id": "ZX9wNeK01cka"
   },
   "source": [
    "### **Marcação dos usuários do Teste A/B**\n",
    "\n",
    "Contém uma marcação indicando se um usuário participou do teste A/B em\n",
    "questão. Assim como a base de usuários, cada usuário possui um customer_id.\n",
    "Os campos são:\n",
    "\n",
    "- customer_id (string): Identificador do usuário\n",
    "- is_target (string): Grupo ao qual o usuário pertence ('target' ou\n",
    "'control')."
   ]
  },
  {
   "cell_type": "code",
   "execution_count": 19,
   "metadata": {
    "colab": {
     "base_uri": "https://localhost:8080/"
    },
    "id": "Isf2Me9oynx_",
    "outputId": "ed8925ec-e130-49e0-d7df-9d7f27755c8c"
   },
   "outputs": [
    {
     "name": "stdout",
     "output_type": "stream",
     "text": [
      "+--------------------+---------+\n",
      "|         customer_id|is_target|\n",
      "+--------------------+---------+\n",
      "|755e1fa18f25caec5...|   target|\n",
      "|b821aa8372b8e5b82...|  control|\n",
      "|d425d6ee4c9d4e211...|  control|\n",
      "|6a7089eea0a5dc294...|   target|\n",
      "|dad6b7e222bab31c0...|  control|\n",
      "+--------------------+---------+\n",
      "only showing top 5 rows\n",
      "\n"
     ]
    }
   ],
   "source": [
    "url = \"https://data-architect-test-source.s3-sa-east-1.amazonaws.com/ab_test_ref.tar.gz\"\n",
    "df_ab_test = load_raw_data(url, \"ab_test_ref.tar.gz\")\n",
    "df_ab_test.show(5)"
   ]
  },
  {
   "cell_type": "code",
   "execution_count": 20,
   "metadata": {
    "colab": {
     "base_uri": "https://localhost:8080/"
    },
    "id": "XUWEVQjmcTY0",
    "outputId": "d0f70300-49e5-4619-807a-f35558b5e009"
   },
   "outputs": [
    {
     "name": "stdout",
     "output_type": "stream",
     "text": [
      "+-----------+---+\n",
      "|customer_id|qtd|\n",
      "+-----------+---+\n",
      "+-----------+---+\n",
      "\n"
     ]
    }
   ],
   "source": [
    "# Verificando duplicidade em customer_id\n",
    "df_duplicados = df_ab_test.groupBy(\"customer_id\") \\\n",
    "    .agg(count(\"*\").alias(\"qtd\")) \\\n",
    "    .filter(\"qtd > 1\")\n",
    "\n",
    "# Mostrar duplicados (se houver)\n",
    "df_duplicados.show()"
   ]
  },
  {
   "cell_type": "code",
   "execution_count": 21,
   "metadata": {
    "colab": {
     "base_uri": "https://localhost:8080/"
    },
    "id": "8tYScn7N9lIt",
    "outputId": "f2ba71a9-ba8a-472f-c76e-71108086b2e6"
   },
   "outputs": [
    {
     "data": {
      "text/plain": [
       "0"
      ]
     },
     "execution_count": 21,
     "metadata": {},
     "output_type": "execute_result"
    }
   ],
   "source": [
    "# Verificando nulos em customer_id\n",
    "df_ab_test.filter(col(\"customer_id\").isNull()).count()"
   ]
  },
  {
   "cell_type": "code",
   "execution_count": 22,
   "metadata": {
    "colab": {
     "base_uri": "https://localhost:8080/"
    },
    "id": "8BgNZSaI9q6m",
    "outputId": "03243136-c1c0-41c7-ee6c-34fd7da0af16"
   },
   "outputs": [
    {
     "data": {
      "text/plain": [
       "806467"
      ]
     },
     "execution_count": 22,
     "metadata": {},
     "output_type": "execute_result"
    }
   ],
   "source": [
    "df_ab_test.count()"
   ]
  },
  {
   "cell_type": "markdown",
   "metadata": {
    "id": "Rk_PekAI91-6"
   },
   "source": [
    "### **Unindo as Tabelas**"
   ]
  },
  {
   "cell_type": "code",
   "execution_count": 23,
   "metadata": {
    "colab": {
     "base_uri": "https://localhost:8080/"
    },
    "id": "Jw38yiGk95Ld",
    "outputId": "8ca79aa6-ad31-4739-869a-1c74a23d2bd7"
   },
   "outputs": [
    {
     "name": "stdout",
     "output_type": "stream",
     "text": [
      "+--------------------+--------+--------------------+------+-------------+-------------------+---------------------+---------+\n",
      "|         customer_id|language|          created_at|active|customer_name|customer_phone_area|customer_phone_number|is_target|\n",
      "+--------------------+--------+--------------------+------+-------------+-------------------+---------------------+---------+\n",
      "|000021924bf8192f6...|   pt-br|2018-01-03 14:12:...|  true|       THIAGO|                 64|            156381073|   target|\n",
      "|00006f567cb362ba9...|   pt-br|2018-04-06 03:20:...|  true|       AMANDA|                 72|            980221683|   target|\n",
      "|0000bb10fb47a1d6b...|   pt-br|2018-01-04 22:01:...|  true|      JULIANA|                 64|            235383327|  control|\n",
      "|0000c21984ae00cef...|   pt-br|2018-01-07 14:36:...|  true|       MARLOS|                 72|            831139121|  control|\n",
      "|0001226e517517758...|   pt-br|2018-03-31 23:13:...|  true|       JULLYA|                 24|            960187601|   target|\n",
      "|0001274ea3bc24cee...|   pt-br|2018-04-06 04:00:...|  true|         RITA|                 55|             77599540|   target|\n",
      "|00016cfde8c0af0a4...|   pt-br|2018-04-06 04:00:...|  true|      MATHIAS|                 21|            250909452|  control|\n",
      "|000200d3759a5b4d0...|   pt-br|2018-01-08 01:10:...|  true|       JOHANN|                 34|            787427470|   target|\n",
      "|00020951c8f263d74...|   pt-br|2018-04-05 13:17:...|  true|      GABRIEL|                 87|            662503035|   target|\n",
      "|00021cd56b6d6c980...|   pt-br|2018-01-04 15:16:...|  true|       SILVIA|                 87|            781841665|   target|\n",
      "|00021f6dc15d10418...|   pt-br|2018-01-30 21:16:...|  true|      MARIANA|                 55|             79649823|   target|\n",
      "|0002287b123ac1afc...|   pt-br|2018-02-04 23:07:...|  true|        CELSO|                 68|            359555807|   target|\n",
      "|00022b8c0c7af061f...|   pt-br|2018-04-06 02:04:...|  true|     PRISCILA|                 83|            798128500|  control|\n",
      "|00024bc2f09ce5769...|   pt-br|2018-01-14 21:30:...|  true|     Samantha|                 16|            299190582|  control|\n",
      "|00027035d16a4de43...|   pt-br|2018-04-06 03:40:...|  true|         RAÚL|                 72|            206142854|  control|\n",
      "|000299d1aee7451f3...|   pt-br|2018-03-20 18:36:...|  true|        PABLO|                 28|            674243336|  control|\n",
      "|00029b26fb2121119...|   pt-br|2018-01-03 23:03:...|  true|       SIMONE|                 43|             60750759|   target|\n",
      "|0002cc7394d677fdf...|   pt-br|2018-04-06 04:24:...|  true|    FRANCISCO|                 91|             97850192|  control|\n",
      "|0002d068e36949a0d...|   pt-br|2018-01-09 21:28:...|  true|     GABRIELA|                 96|            807574551|   target|\n",
      "|0003030c4d06fe6a0...|   pt-br|2018-01-06 08:49:...|  true|     LINDOMAR|                 70|            793363614|  control|\n",
      "+--------------------+--------+--------------------+------+-------------+-------------------+---------------------+---------+\n",
      "only showing top 20 rows\n",
      "\n"
     ]
    }
   ],
   "source": [
    "# Como vamos analisar apenas o público que participou do teste A/B, podemos unir por inner join as tabelas df_ab_test df_consumer\n",
    "df_consumer_ab_test = df_consumer.join(df_ab_test, on=\"customer_id\", how=\"inner\")\n",
    "df_consumer_ab_test.show()"
   ]
  },
  {
   "cell_type": "code",
   "execution_count": 27,
   "metadata": {
    "colab": {
     "base_uri": "https://localhost:8080/"
    },
    "id": "FcANrUrF_aoj",
    "outputId": "0081e66e-005f-414e-c66f-2fbf54edb35a"
   },
   "outputs": [
    {
     "name": "stdout",
     "output_type": "stream",
     "text": [
      "+--------------------+-------------+---------------------+------------------------+-------------------------+----------------------------+-------------------------+--------------------------+----------------------+-------------------------+--------------------+--------------------+-----------------+------------------+-----------------+--------------------+--------------------+---------------+--------------------+------------------+---------------+--------+--------------------+------+-------------+-------------------+---------------------+---------+\n",
      "|         customer_id|customer_name|delivery_address_city|delivery_address_country|delivery_address_district|delivery_address_external_id|delivery_address_latitude|delivery_address_longitude|delivery_address_state|delivery_address_zip_code|               items|         merchant_id|merchant_latitude|merchant_longitude|merchant_timezone|    order_created_at|            order_id|order_scheduled|order_scheduled_date|order_total_amount|origin_platform|language|          created_at|active|customer_name|customer_phone_area|customer_phone_number|is_target|\n",
      "+--------------------+-------------+---------------------+------------------------+-------------------------+----------------------------+-------------------------+--------------------------+----------------------+-------------------------+--------------------+--------------------+-----------------+------------------+-----------------+--------------------+--------------------+---------------+--------------------+------------------+---------------+--------+--------------------+------+-------------+-------------------+---------------------+---------+\n",
      "|00021cd56b6d6c980...|       SILVIA|             CAMPINAS|                      BR|     MANSOES SANTO ANT...|                     5705729|                   -47.05|                    -22.85|                    SP|                    13087|[{\"name\": \"Execut...|b6e311babf9a86139...|           -47.05|            -22.85|America/Sao_Paulo|2019-01-10T15:42:...|c8025f9766488b6af...|          false|                NULL|              18.0|        ANDROID|   pt-br|2018-01-04 15:16:...|  true|       SILVIA|                 87|            781841665|   target|\n",
      "|00021cd56b6d6c980...|       SILVIA|             CAMPINAS|                      BR|     MANSOES SANTO ANT...|                     5705729|                   -47.05|                    -22.85|                    SP|                    13087|[{\"name\": \"Trio N...|9a4310e54725f9e9b...|           -47.05|            -22.85|America/Sao_Paulo|2019-01-25T22:13:...|3c60bf70c0f9485a6...|          false|                NULL|              13.9|        ANDROID|   pt-br|2018-01-04 15:16:...|  true|       SILVIA|                 87|            781841665|   target|\n",
      "|00021cd56b6d6c980...|       SILVIA|             CAMPINAS|                      BR|     MANSOES SANTO ANT...|                     5705729|                   -47.05|                    -22.85|                    SP|                    13087|[{\"name\": \"Abelha...|ba8b6425d0a9d3a88...|           -47.05|            -22.85|America/Sao_Paulo|2019-01-03T23:26:...|fb6d4944f697ff351...|          false|                NULL|              15.9|        ANDROID|   pt-br|2018-01-04 15:16:...|  true|       SILVIA|                 87|            781841665|   target|\n",
      "|0002cc7394d677fdf...|    FRANCISCO|             BRASILIA|                      BR|     SETOR HABITACIONA...|                     9044462|                   -48.02|                    -15.84|                    DF|                    71993|[{\"name\": \"Arroz ...|49e6eea57aef6679f...|           -48.02|            -15.84|America/Sao_Paulo|2019-01-13T23:14:...|97a058a6f25ede4ba...|          false|                NULL|              43.9|        ANDROID|   pt-br|2018-04-06 04:24:...|  true|    FRANCISCO|                 91|             97850192|  control|\n",
      "|0006aba7fd94d9de3...|          ANA|             SAO JOSE|                      BR|                 CAMPINAS|                     9123331|                   -48.61|                    -27.59|                    SC|                    88101|[{\"name\": \"Filé M...|dcb6dcdf1629fffab...|           -48.61|            -27.59|America/Sao_Paulo|2019-01-17T23:07:...|a96bdc9f62ac66de0...|          false|                NULL|              40.0|            IOS|   pt-br|2018-01-10 23:41:...|  true|          ANA|                 84|            598426080|  control|\n",
      "|0006aba7fd94d9de3...|          ANA|             SAO JOSE|                      BR|                 CAMPINAS|                     9123331|                   -48.61|                    -27.59|                    SC|                    88101|[{\"name\": \"Delíci...|0d45d38236c105039...|           -48.61|            -27.59|America/Sao_Paulo|2019-01-16T00:17:...|c4f5827c3b038fc5d...|          false|                NULL|              69.9|            IOS|   pt-br|2018-01-10 23:41:...|  true|          ANA|                 84|            598426080|  control|\n",
      "|0009fce56b3f5a32a...|        TANIA|            SAO PAULO|                      BR|             VILA IPOJUCA|                     9071027|                   -46.70|                    -23.54|                    SP|                    50540|[{\"name\": \"GALETO...|e9808433ad0812980...|           -46.70|            -23.54|America/Sao_Paulo|2019-01-12T21:40:...|52102d80d1ef8844c...|          false|                NULL|              45.2|        ANDROID|   pt-br|2018-04-06 04:25:...|  true|        TANIA|                 65|            727059838|  control|\n",
      "|000ac4b0d62aaf489...|      STEFANI|            SAO PAULO|                      BR|             VILA OLIMPIA|                     3943260|                   -46.68|                    -23.59|                    SP|                    45520|[{\"name\": \"PORÇÃO...|06f331f426e4a05a9...|           -46.68|            -23.59|America/Sao_Paulo|2019-01-23T00:04:...|0d32874ca61ae0a2d...|          false|                NULL|             86.03|            IOS|   pt-br|2018-04-03 00:17:...|  true|      STEFANI|                 56|            584363395|  control|\n",
      "|001566671db5d822e...|       SANDRA|       RIO DE JANEIRO|                      BR|                   CENTRO|                     8707988|                   -43.19|                    -22.91|                    RJ|                    20231|[{\"name\": \"HOT SP...|55cca4d45b19e1799...|           -43.19|            -22.91|America/Sao_Paulo|2019-01-13T16:19:...|ae696ad349518cbcb...|          false|                NULL|              24.4|            IOS|   pt-br|2018-03-19 14:22:...|  true|       SANDRA|                 99|            381715322|  control|\n",
      "|001566671db5d822e...|       SANDRA|       RIO DE JANEIRO|                      BR|                   CENTRO|                     2297877|                   -43.19|                    -22.91|                    RJ|                    20231|[{\"name\": \"Salada...|2624028d9c00e80ad...|           -43.19|            -22.91|America/Sao_Paulo|2019-01-04T16:19:...|6a5db37684bcea311...|          false|                NULL|              19.9|            IOS|   pt-br|2018-03-19 14:22:...|  true|       SANDRA|                 99|            381715322|  control|\n",
      "|0015f1e5b35a3d7b6...|       THAYNÁ|       RIO DE JANEIRO|                      BR|                BANCARIOS|                     8930621|                   -43.18|                    -22.79|                    RJ|                    21911|[{\"name\": \"GIGANT...|059fa9f3ec70af529...|           -43.18|            -22.79|America/Sao_Paulo|2019-01-31T23:22:...|8d714dd2e916d88a7...|          false|                NULL|              49.9|            IOS|   pt-br|2018-04-06 00:09:...|  true|       THAYNÁ|                 80|            772230201|   target|\n",
      "|00173c4d39960ee57...|       LILIAN|             LONDRINA|                      BR|                   LEONOR|                     7794671|                   -51.21|                    -23.29|                    PR|                    86071|[{\"name\": \"FRANGO...|c82bf24729962df79...|           -51.21|            -23.29|America/Sao_Paulo|2019-01-19T22:48:...|1a5c30ab47a83d0aa...|          false|                NULL|              46.9|        DESKTOP|   pt-br|2018-04-06 02:01:...|  true|       LILIAN|                  7|            706910307|  control|\n",
      "|00173c4d39960ee57...|       LILIAN|             LONDRINA|                      BR|                   LEONOR|                     7794671|                   -51.21|                    -23.29|                    PR|                    86071|[{\"name\": \"Dog Si...|beef912cfbf0fcb68...|           -51.21|            -23.29|America/Sao_Paulo|2019-01-18T01:00:...|134e61b67c588bf38...|          false|                NULL|              49.5|        DESKTOP|   pt-br|2018-04-06 02:01:...|  true|       LILIAN|                  7|            706910307|  control|\n",
      "|00173c4d39960ee57...|       LILIAN|             LONDRINA|                      BR|                   LEONOR|                     7794671|                   -51.21|                    -23.29|                    PR|                    86071|[{\"name\": \"Dog Fr...|beef912cfbf0fcb68...|           -51.21|            -23.29|America/Sao_Paulo|2019-01-20T00:31:...|affbaec6705086aec...|          false|                NULL|              42.0|        DESKTOP|   pt-br|2018-04-06 02:01:...|  true|       LILIAN|                  7|            706910307|  control|\n",
      "|00173c4d39960ee57...|       LILIAN|             LONDRINA|                      BR|                   LEONOR|                     7794671|                   -51.21|                    -23.29|                    PR|                    86071|[{\"name\": \"COMBO ...|beef912cfbf0fcb68...|           -51.21|            -23.29|America/Sao_Paulo|2019-01-15T23:55:...|686d053037b3b911e...|          false|                NULL|              44.0|        DESKTOP|   pt-br|2018-04-06 02:01:...|  true|       LILIAN|                  7|            706910307|  control|\n",
      "|00173c4d39960ee57...|       LILIAN|             LONDRINA|                      BR|                   LEONOR|                     7794671|                   -51.21|                    -23.29|                    PR|                    86071|[{\"name\": \"80 - R...|c82bf24729962df79...|           -51.21|            -23.29|America/Sao_Paulo|2019-01-08T23:24:...|8fd7e03fbbc836651...|          false|                NULL|              51.4|        DESKTOP|   pt-br|2018-04-06 02:01:...|  true|       LILIAN|                  7|            706910307|  control|\n",
      "|00173c4d39960ee57...|       LILIAN|             LONDRINA|                      BR|                   LEONOR|                     7794671|                   -51.21|                    -23.29|                    PR|                    86071|[{\"name\": \"GRANDE...|e85c89367a2cc7652...|           -51.21|            -23.29|America/Sao_Paulo|2019-01-13T23:27:...|8265310bbf3fe5b68...|          false|                NULL|              49.4|        DESKTOP|   pt-br|2018-04-06 02:01:...|  true|       LILIAN|                  7|            706910307|  control|\n",
      "|00173c4d39960ee57...|       LILIAN|             LONDRINA|                      BR|                   LEONOR|                     7794671|                   -51.21|                    -23.29|                    PR|                    86071|[{\"name\": \"COMBO ...|beef912cfbf0fcb68...|           -51.21|            -23.29|America/Sao_Paulo|2019-01-26T22:25:...|b836314d5c6ca270a...|          false|                NULL|              34.5|        DESKTOP|   pt-br|2018-04-06 02:01:...|  true|       LILIAN|                  7|            706910307|  control|\n",
      "|00173c4d39960ee57...|       LILIAN|             LONDRINA|                      BR|                   LEONOR|                     7794671|                   -51.21|                    -23.29|                    PR|                    86071|[{\"name\": \"GRANDE...|4c19ddfa9ae670c3f...|           -51.21|            -23.29|America/Sao_Paulo|2019-01-29T23:42:...|9dccc30a6389c8a98...|          false|                NULL|              38.9|        DESKTOP|   pt-br|2018-04-06 02:01:...|  true|       LILIAN|                  7|            706910307|  control|\n",
      "|00173c4d39960ee57...|       LILIAN|             LONDRINA|                      BR|                   LEONOR|                     7794671|                   -51.21|                    -23.29|                    PR|                    86071|[{\"name\": \"GRANDE...|bf49f941a0d8a8f6f...|           -51.21|            -23.29|America/Sao_Paulo|2019-01-12T00:08:...|f790dc1c412439ff9...|          false|                NULL|              33.0|        DESKTOP|   pt-br|2018-04-06 02:01:...|  true|       LILIAN|                  7|            706910307|  control|\n",
      "+--------------------+-------------+---------------------+------------------------+-------------------------+----------------------------+-------------------------+--------------------------+----------------------+-------------------------+--------------------+--------------------+-----------------+------------------+-----------------+--------------------+--------------------+---------------+--------------------+------------------+---------------+--------+--------------------+------+-------------+-------------------+---------------------+---------+\n",
      "only showing top 20 rows\n",
      "\n"
     ]
    }
   ],
   "source": [
    "# Agora vamos unir estas informações na tabela de pedidos, novamente queremos apenas os pedidos dos usuários que participaram do teste A/B\n",
    "df_order_ab_test = df_order_deduplicado.join(df_consumer_ab_test, on=\"customer_id\", how=\"inner\")\n",
    "df_order_ab_test.show()"
   ]
  },
  {
   "cell_type": "code",
   "execution_count": 28,
   "metadata": {
    "colab": {
     "base_uri": "https://localhost:8080/"
    },
    "id": "DrkhJUs2AHU3",
    "outputId": "30dc664d-7791-4854-8505-2ccff51368a2"
   },
   "outputs": [
    {
     "data": {
      "text/plain": [
       "2426590"
      ]
     },
     "execution_count": 28,
     "metadata": {},
     "output_type": "execute_result"
    }
   ],
   "source": [
    "df_order_ab_test.count()"
   ]
  },
  {
   "cell_type": "code",
   "execution_count": 29,
   "metadata": {
    "id": "v_Lii9XIBfVN"
   },
   "outputs": [],
   "source": [
    "# Por fim, vamos agregar as informações dos restaurantes na tabela de pedidos (aqui podemos unir com left join):\n",
    "df_order_ab_test_merchant = df_order_ab_test.join(\n",
    "    df_merchants.withColumnRenamed(\"created_at\", \"created_at_merchant\"),\n",
    "    df_order_ab_test.merchant_id == df_merchants.id,\n",
    "    how=\"left\"\n",
    ")"
   ]
  },
  {
   "cell_type": "code",
   "execution_count": 30,
   "metadata": {
    "colab": {
     "base_uri": "https://localhost:8080/"
    },
    "id": "9ECo8AeuFqdv",
    "outputId": "ed611742-e631-49bb-ff37-6b9706ac3a91"
   },
   "outputs": [
    {
     "name": "stdout",
     "output_type": "stream",
     "text": [
      "+--------------------+-------------+---------------------+------------------------+-------------------------+----------------------------+-------------------------+--------------------------+----------------------+-------------------------+--------------------+--------------------+-----------------+------------------+-----------------+--------------------+--------------------+---------------+--------------------+------------------+---------------+--------+--------------------+------+-------------+-------------------+---------------------+---------+--------------------+--------------------+-------+-----------+--------------+------------+-------------+-------------------+-----------------+--------------+--------------+----------------+\n",
      "|         customer_id|customer_name|delivery_address_city|delivery_address_country|delivery_address_district|delivery_address_external_id|delivery_address_latitude|delivery_address_longitude|delivery_address_state|delivery_address_zip_code|               items|         merchant_id|merchant_latitude|merchant_longitude|merchant_timezone|    order_created_at|            order_id|order_scheduled|order_scheduled_date|order_total_amount|origin_platform|language|          created_at|active|customer_name|customer_phone_area|customer_phone_number|is_target|                  id| created_at_merchant|enabled|price_range|average_ticket|takeout_time|delivery_time|minimum_order_value|merchant_zip_code| merchant_city|merchant_state|merchant_country|\n",
      "+--------------------+-------------+---------------------+------------------------+-------------------------+----------------------------+-------------------------+--------------------------+----------------------+-------------------------+--------------------+--------------------+-----------------+------------------+-----------------+--------------------+--------------------+---------------+--------------------+------------------+---------------+--------+--------------------+------+-------------+-------------------+---------------------+---------+--------------------+--------------------+-------+-----------+--------------+------------+-------------+-------------------+-----------------+--------------+--------------+----------------+\n",
      "|00021cd56b6d6c980...|       SILVIA|             CAMPINAS|                      BR|     MANSOES SANTO ANT...|                     5705729|                   -47.05|                    -22.85|                    SP|                    13087|[{\"name\": \"Execut...|b6e311babf9a86139...|           -47.05|            -22.85|America/Sao_Paulo|2019-01-10T15:42:...|c8025f9766488b6af...|          false|                NULL|              18.0|        ANDROID|   pt-br|2018-01-04 15:16:...|  true|       SILVIA|                 87|            781841665|   target|b6e311babf9a86139...|2017-01-20 13:15:...|  false|          2|          40.0|           0|           30|               10.0|            13075|      CAMPINAS|            SP|              BR|\n",
      "|00021cd56b6d6c980...|       SILVIA|             CAMPINAS|                      BR|     MANSOES SANTO ANT...|                     5705729|                   -47.05|                    -22.85|                    SP|                    13087|[{\"name\": \"Trio N...|9a4310e54725f9e9b...|           -47.05|            -22.85|America/Sao_Paulo|2019-01-25T22:13:...|3c60bf70c0f9485a6...|          false|                NULL|              13.9|        ANDROID|   pt-br|2018-01-04 15:16:...|  true|       SILVIA|                 87|            781841665|   target|9a4310e54725f9e9b...|2017-01-20 13:15:...|   true|          2|          40.0|           0|           50|               10.0|            13087|      CAMPINAS|            SP|              BR|\n",
      "|00021cd56b6d6c980...|       SILVIA|             CAMPINAS|                      BR|     MANSOES SANTO ANT...|                     5705729|                   -47.05|                    -22.85|                    SP|                    13087|[{\"name\": \"Abelha...|ba8b6425d0a9d3a88...|           -47.05|            -22.85|America/Sao_Paulo|2019-01-03T23:26:...|fb6d4944f697ff351...|          false|                NULL|              15.9|        ANDROID|   pt-br|2018-01-04 15:16:...|  true|       SILVIA|                 87|            781841665|   target|ba8b6425d0a9d3a88...|2017-01-20 13:15:...|   true|          3|          60.0|           0|            0|               10.0|            13087|      CAMPINAS|            SP|              BR|\n",
      "|0002cc7394d677fdf...|    FRANCISCO|             BRASILIA|                      BR|     SETOR HABITACIONA...|                     9044462|                   -48.02|                    -15.84|                    DF|                    71993|[{\"name\": \"Arroz ...|49e6eea57aef6679f...|           -48.02|            -15.84|America/Sao_Paulo|2019-01-13T23:14:...|97a058a6f25ede4ba...|          false|                NULL|              43.9|        ANDROID|   pt-br|2018-04-06 04:24:...|  true|    FRANCISCO|                 91|             97850192|  control|49e6eea57aef6679f...|2017-01-20 13:14:...|  false|          2|          30.0|           0|            0|                0.0|            71805|      BRASILIA|            DF|              BR|\n",
      "|0006aba7fd94d9de3...|          ANA|             SAO JOSE|                      BR|                 CAMPINAS|                     9123331|                   -48.61|                    -27.59|                    SC|                    88101|[{\"name\": \"Filé M...|dcb6dcdf1629fffab...|           -48.61|            -27.59|America/Sao_Paulo|2019-01-17T23:07:...|a96bdc9f62ac66de0...|          false|                NULL|              40.0|            IOS|   pt-br|2018-01-10 23:41:...|  true|          ANA|                 84|            598426080|  control|dcb6dcdf1629fffab...|2017-01-20 13:14:...|   true|          3|          60.0|           0|            0|                8.0|            88111|      SAO JOSE|            SC|              BR|\n",
      "|0006aba7fd94d9de3...|          ANA|             SAO JOSE|                      BR|                 CAMPINAS|                     9123331|                   -48.61|                    -27.59|                    SC|                    88101|[{\"name\": \"Delíci...|0d45d38236c105039...|           -48.61|            -27.59|America/Sao_Paulo|2019-01-16T00:17:...|c4f5827c3b038fc5d...|          false|                NULL|              69.9|            IOS|   pt-br|2018-01-10 23:41:...|  true|          ANA|                 84|            598426080|  control|0d45d38236c105039...|2017-01-23 12:48:...|   true|          3|          60.0|           0|            0|               10.0|            88106|      SAO JOSE|            SC|              BR|\n",
      "|0009fce56b3f5a32a...|        TANIA|            SAO PAULO|                      BR|             VILA IPOJUCA|                     9071027|                   -46.70|                    -23.54|                    SP|                    50540|[{\"name\": \"GALETO...|e9808433ad0812980...|           -46.70|            -23.54|America/Sao_Paulo|2019-01-12T21:40:...|52102d80d1ef8844c...|          false|                NULL|              45.2|        ANDROID|   pt-br|2018-04-06 04:25:...|  true|        TANIA|                 65|            727059838|  control|e9808433ad0812980...|2017-01-20 13:13:...|   true|          4|          80.0|          20|            0|               10.0|            50611|     SAO PAULO|            SP|              BR|\n",
      "|000ac4b0d62aaf489...|      STEFANI|            SAO PAULO|                      BR|             VILA OLIMPIA|                     3943260|                   -46.68|                    -23.59|                    SP|                    45520|[{\"name\": \"PORÇÃO...|06f331f426e4a05a9...|           -46.68|            -23.59|America/Sao_Paulo|2019-01-23T00:04:...|0d32874ca61ae0a2d...|          false|                NULL|             86.03|            IOS|   pt-br|2018-04-03 00:17:...|  true|      STEFANI|                 56|            584363395|  control|06f331f426e4a05a9...|2017-01-20 13:13:...|  false|          4|          80.0|          20|           40|                0.0|            45510|     SAO PAULO|            SP|              BR|\n",
      "|001566671db5d822e...|       SANDRA|       RIO DE JANEIRO|                      BR|                   CENTRO|                     8707988|                   -43.19|                    -22.91|                    RJ|                    20231|[{\"name\": \"HOT SP...|55cca4d45b19e1799...|           -43.19|            -22.91|America/Sao_Paulo|2019-01-13T16:19:...|ae696ad349518cbcb...|          false|                NULL|              24.4|            IOS|   pt-br|2018-03-19 14:22:...|  true|       SANDRA|                 99|            381715322|  control|55cca4d45b19e1799...|2017-01-20 13:14:...|  false|          1|          30.0|           0|           40|               20.0|            20231|RIO DE JANEIRO|            RJ|              BR|\n",
      "|001566671db5d822e...|       SANDRA|       RIO DE JANEIRO|                      BR|                   CENTRO|                     2297877|                   -43.19|                    -22.91|                    RJ|                    20231|[{\"name\": \"Salada...|2624028d9c00e80ad...|           -43.19|            -22.91|America/Sao_Paulo|2019-01-04T16:19:...|6a5db37684bcea311...|          false|                NULL|              19.9|            IOS|   pt-br|2018-03-19 14:22:...|  true|       SANDRA|                 99|            381715322|  control|2624028d9c00e80ad...|2017-01-20 13:14:...|   true|          2|          40.0|           0|           45|                0.0|            20231|RIO DE JANEIRO|            RJ|              BR|\n",
      "|0015f1e5b35a3d7b6...|       THAYNÁ|       RIO DE JANEIRO|                      BR|                BANCARIOS|                     8930621|                   -43.18|                    -22.79|                    RJ|                    21911|[{\"name\": \"GIGANT...|059fa9f3ec70af529...|           -43.18|            -22.79|America/Sao_Paulo|2019-01-31T23:22:...|8d714dd2e916d88a7...|          false|                NULL|              49.9|            IOS|   pt-br|2018-04-06 00:09:...|  true|       THAYNÁ|                 80|            772230201|   target|059fa9f3ec70af529...|2017-01-20 13:15:...|   true|          4|          80.0|          15|           15|                0.0|            21941|RIO DE JANEIRO|            RJ|              BR|\n",
      "|00173c4d39960ee57...|       LILIAN|             LONDRINA|                      BR|                   LEONOR|                     7794671|                   -51.21|                    -23.29|                    PR|                    86071|[{\"name\": \"FRANGO...|c82bf24729962df79...|           -51.21|            -23.29|America/Sao_Paulo|2019-01-19T22:48:...|1a5c30ab47a83d0aa...|          false|                NULL|              46.9|        DESKTOP|   pt-br|2018-04-06 02:01:...|  true|       LILIAN|                  7|            706910307|  control|c82bf24729962df79...|2017-01-20 13:14:...|   true|          1|          30.0|           0|            0|               10.0|            86060|      LONDRINA|            PR|              BR|\n",
      "|00173c4d39960ee57...|       LILIAN|             LONDRINA|                      BR|                   LEONOR|                     7794671|                   -51.21|                    -23.29|                    PR|                    86071|[{\"name\": \"Dog Si...|beef912cfbf0fcb68...|           -51.21|            -23.29|America/Sao_Paulo|2019-01-18T01:00:...|134e61b67c588bf38...|          false|                NULL|              49.5|        DESKTOP|   pt-br|2018-04-06 02:01:...|  true|       LILIAN|                  7|            706910307|  control|beef912cfbf0fcb68...|2017-01-20 13:14:...|   true|          1|          30.0|          20|            0|               15.0|            86065|      LONDRINA|            PR|              BR|\n",
      "|00173c4d39960ee57...|       LILIAN|             LONDRINA|                      BR|                   LEONOR|                     7794671|                   -51.21|                    -23.29|                    PR|                    86071|[{\"name\": \"Dog Fr...|beef912cfbf0fcb68...|           -51.21|            -23.29|America/Sao_Paulo|2019-01-20T00:31:...|affbaec6705086aec...|          false|                NULL|              42.0|        DESKTOP|   pt-br|2018-04-06 02:01:...|  true|       LILIAN|                  7|            706910307|  control|beef912cfbf0fcb68...|2017-01-20 13:14:...|   true|          1|          30.0|          20|            0|               15.0|            86065|      LONDRINA|            PR|              BR|\n",
      "|00173c4d39960ee57...|       LILIAN|             LONDRINA|                      BR|                   LEONOR|                     7794671|                   -51.21|                    -23.29|                    PR|                    86071|[{\"name\": \"COMBO ...|beef912cfbf0fcb68...|           -51.21|            -23.29|America/Sao_Paulo|2019-01-15T23:55:...|686d053037b3b911e...|          false|                NULL|              44.0|        DESKTOP|   pt-br|2018-04-06 02:01:...|  true|       LILIAN|                  7|            706910307|  control|beef912cfbf0fcb68...|2017-01-20 13:14:...|   true|          1|          30.0|          20|            0|               15.0|            86065|      LONDRINA|            PR|              BR|\n",
      "|00173c4d39960ee57...|       LILIAN|             LONDRINA|                      BR|                   LEONOR|                     7794671|                   -51.21|                    -23.29|                    PR|                    86071|[{\"name\": \"80 - R...|c82bf24729962df79...|           -51.21|            -23.29|America/Sao_Paulo|2019-01-08T23:24:...|8fd7e03fbbc836651...|          false|                NULL|              51.4|        DESKTOP|   pt-br|2018-04-06 02:01:...|  true|       LILIAN|                  7|            706910307|  control|c82bf24729962df79...|2017-01-20 13:14:...|   true|          1|          30.0|           0|            0|               10.0|            86060|      LONDRINA|            PR|              BR|\n",
      "|00173c4d39960ee57...|       LILIAN|             LONDRINA|                      BR|                   LEONOR|                     7794671|                   -51.21|                    -23.29|                    PR|                    86071|[{\"name\": \"GRANDE...|e85c89367a2cc7652...|           -51.21|            -23.29|America/Sao_Paulo|2019-01-13T23:27:...|8265310bbf3fe5b68...|          false|                NULL|              49.4|        DESKTOP|   pt-br|2018-04-06 02:01:...|  true|       LILIAN|                  7|            706910307|  control|e85c89367a2cc7652...|2017-01-20 13:14:...|   true|          3|          60.0|          30|            0|                0.0|            86015|      LONDRINA|            PR|              BR|\n",
      "|00173c4d39960ee57...|       LILIAN|             LONDRINA|                      BR|                   LEONOR|                     7794671|                   -51.21|                    -23.29|                    PR|                    86071|[{\"name\": \"COMBO ...|beef912cfbf0fcb68...|           -51.21|            -23.29|America/Sao_Paulo|2019-01-26T22:25:...|b836314d5c6ca270a...|          false|                NULL|              34.5|        DESKTOP|   pt-br|2018-04-06 02:01:...|  true|       LILIAN|                  7|            706910307|  control|beef912cfbf0fcb68...|2017-01-20 13:14:...|   true|          1|          30.0|          20|            0|               15.0|            86065|      LONDRINA|            PR|              BR|\n",
      "|00173c4d39960ee57...|       LILIAN|             LONDRINA|                      BR|                   LEONOR|                     7794671|                   -51.21|                    -23.29|                    PR|                    86071|[{\"name\": \"GRANDE...|4c19ddfa9ae670c3f...|           -51.21|            -23.29|America/Sao_Paulo|2019-01-29T23:42:...|9dccc30a6389c8a98...|          false|                NULL|              38.9|        DESKTOP|   pt-br|2018-04-06 02:01:...|  true|       LILIAN|                  7|            706910307|  control|4c19ddfa9ae670c3f...|2017-01-20 13:14:...|  false|          2|          40.0|           0|           30|               14.0|            86185|         CAMBE|            PR|              BR|\n",
      "|00173c4d39960ee57...|       LILIAN|             LONDRINA|                      BR|                   LEONOR|                     7794671|                   -51.21|                    -23.29|                    PR|                    86071|[{\"name\": \"GRANDE...|bf49f941a0d8a8f6f...|           -51.21|            -23.29|America/Sao_Paulo|2019-01-12T00:08:...|f790dc1c412439ff9...|          false|                NULL|              33.0|        DESKTOP|   pt-br|2018-04-06 02:01:...|  true|       LILIAN|                  7|            706910307|  control|bf49f941a0d8a8f6f...|2017-01-23 12:40:...|  false|          3|          60.0|           0|           40|               NULL|            86072|      LONDRINA|            PR|              BR|\n",
      "+--------------------+-------------+---------------------+------------------------+-------------------------+----------------------------+-------------------------+--------------------------+----------------------+-------------------------+--------------------+--------------------+-----------------+------------------+-----------------+--------------------+--------------------+---------------+--------------------+------------------+---------------+--------+--------------------+------+-------------+-------------------+---------------------+---------+--------------------+--------------------+-------+-----------+--------------+------------+-------------+-------------------+-----------------+--------------+--------------+----------------+\n",
      "only showing top 20 rows\n",
      "\n"
     ]
    }
   ],
   "source": [
    "df_order_ab_test_merchant.show()"
   ]
  },
  {
   "cell_type": "code",
   "execution_count": 31,
   "metadata": {
    "colab": {
     "base_uri": "https://localhost:8080/"
    },
    "id": "j2tTk8UVFsRF",
    "outputId": "ba102c88-134e-48a9-a433-7c74b77a538c"
   },
   "outputs": [
    {
     "name": "stdout",
     "output_type": "stream",
     "text": [
      "customer_id\n",
      "customer_name\n",
      "delivery_address_city\n",
      "delivery_address_country\n",
      "delivery_address_district\n",
      "delivery_address_external_id\n",
      "delivery_address_latitude\n",
      "delivery_address_longitude\n",
      "delivery_address_state\n",
      "delivery_address_zip_code\n",
      "items\n",
      "merchant_id\n",
      "merchant_latitude\n",
      "merchant_longitude\n",
      "merchant_timezone\n",
      "order_created_at\n",
      "order_id\n",
      "order_scheduled\n",
      "order_scheduled_date\n",
      "order_total_amount\n",
      "origin_platform\n",
      "language\n",
      "created_at\n",
      "active\n",
      "customer_name\n",
      "customer_phone_area\n",
      "customer_phone_number\n",
      "is_target\n",
      "id\n",
      "created_at_merchant\n",
      "enabled\n",
      "price_range\n",
      "average_ticket\n",
      "takeout_time\n",
      "delivery_time\n",
      "minimum_order_value\n",
      "merchant_zip_code\n",
      "merchant_city\n",
      "merchant_state\n",
      "merchant_country\n"
     ]
    }
   ],
   "source": [
    "for col_name in df_order_ab_test_merchant.columns:\n",
    "    print(col_name)"
   ]
  },
  {
   "cell_type": "code",
   "execution_count": 32,
   "metadata": {
    "colab": {
     "base_uri": "https://localhost:8080/"
    },
    "id": "vMSeWL5YHacD",
    "outputId": "76766bb9-3347-4680-df67-8c22d31d27de"
   },
   "outputs": [
    {
     "name": "stdout",
     "output_type": "stream",
     "text": [
      "+--------------------+---------------------+------------------------+----------------------+--------------------+--------------------+--------------------+--------------------+---------------+--------------------+------------------+---------------+--------+--------------------+------+---------+--------------------+-------+-----------+--------------+------------+-------------+-------------------+--------------------+--------------+----------------+\n",
      "|         customer_id|delivery_address_city|delivery_address_country|delivery_address_state|               items|         merchant_id|    order_created_at|            order_id|order_scheduled|order_scheduled_date|order_total_amount|origin_platform|language|          created_at|active|is_target| created_at_merchant|enabled|price_range|average_ticket|takeout_time|delivery_time|minimum_order_value|       merchant_city|merchant_state|merchant_country|\n",
      "+--------------------+---------------------+------------------------+----------------------+--------------------+--------------------+--------------------+--------------------+---------------+--------------------+------------------+---------------+--------+--------------------+------+---------+--------------------+-------+-----------+--------------+------------+-------------+-------------------+--------------------+--------------+----------------+\n",
      "|00021cd56b6d6c980...|             CAMPINAS|                      BR|                    SP|[{\"name\": \"Execut...|b6e311babf9a86139...|2019-01-10T15:42:...|c8025f9766488b6af...|          false|                NULL|              18.0|        ANDROID|   pt-br|2018-01-04 15:16:...|  true|   target|2017-01-20 13:15:...|  false|          2|          40.0|           0|           30|               10.0|            CAMPINAS|            SP|              BR|\n",
      "|00021cd56b6d6c980...|             CAMPINAS|                      BR|                    SP|[{\"name\": \"Trio N...|9a4310e54725f9e9b...|2019-01-25T22:13:...|3c60bf70c0f9485a6...|          false|                NULL|              13.9|        ANDROID|   pt-br|2018-01-04 15:16:...|  true|   target|2017-01-20 13:15:...|   true|          2|          40.0|           0|           50|               10.0|            CAMPINAS|            SP|              BR|\n",
      "|00021cd56b6d6c980...|             CAMPINAS|                      BR|                    SP|[{\"name\": \"Abelha...|ba8b6425d0a9d3a88...|2019-01-03T23:26:...|fb6d4944f697ff351...|          false|                NULL|              15.9|        ANDROID|   pt-br|2018-01-04 15:16:...|  true|   target|2017-01-20 13:15:...|   true|          3|          60.0|           0|            0|               10.0|            CAMPINAS|            SP|              BR|\n",
      "|0002cc7394d677fdf...|             BRASILIA|                      BR|                    DF|[{\"name\": \"Arroz ...|49e6eea57aef6679f...|2019-01-13T23:14:...|97a058a6f25ede4ba...|          false|                NULL|              43.9|        ANDROID|   pt-br|2018-04-06 04:24:...|  true|  control|2017-01-20 13:14:...|  false|          2|          30.0|           0|            0|                0.0|            BRASILIA|            DF|              BR|\n",
      "|000405bb6de6550fe...|       RIO DE JANEIRO|                      BR|                    RJ|[{\"name\": \"GRANDE...|85d05d0d6c5a68a71...|2019-01-16T22:02:...|82cce0e3c85be1ad8...|          false|                NULL|              38.0|            IOS|   pt-br|2018-04-05 20:20:...|  true|   target|2017-01-20 13:14:...|   true|          3|          60.0|           0|            0|               30.0|      RIO DE JANEIRO|            RJ|              BR|\n",
      "|000405bb6de6550fe...|       RIO DE JANEIRO|                      BR|                    RJ|[{\"name\": \"PromHo...|c5750da4194fe1ee8...|2019-01-29T21:22:...|2692aa1466e5646f4...|          false|                NULL|             107.6|            IOS|   pt-br|2018-04-05 20:20:...|  true|   target|2017-01-20 13:13:...|   true|          5|          81.0|          10|            0|               30.0|      RIO DE JANEIRO|            RJ|              BR|\n",
      "|000405bb6de6550fe...|       RIO DE JANEIRO|                      BR|                    RJ|[{\"name\": \"N15 CH...|7f729a71737503560...|2019-01-18T20:38:...|90b460f5bb099a6ec...|          false|                NULL|             29.47|            IOS|   pt-br|2018-04-05 20:20:...|  true|   target|2017-01-20 13:13:...|  false|          2|          40.0|           0|           30|               10.0|      RIO DE JANEIRO|            RJ|              BR|\n",
      "|0006aba7fd94d9de3...|             SAO JOSE|                      BR|                    SC|[{\"name\": \"Filé M...|dcb6dcdf1629fffab...|2019-01-17T23:07:...|a96bdc9f62ac66de0...|          false|                NULL|              40.0|            IOS|   pt-br|2018-01-10 23:41:...|  true|  control|2017-01-20 13:14:...|   true|          3|          60.0|           0|            0|                8.0|            SAO JOSE|            SC|              BR|\n",
      "|0006aba7fd94d9de3...|             SAO JOSE|                      BR|                    SC|[{\"name\": \"Delíci...|0d45d38236c105039...|2019-01-16T00:17:...|c4f5827c3b038fc5d...|          false|                NULL|              69.9|            IOS|   pt-br|2018-01-10 23:41:...|  true|  control|2017-01-23 12:48:...|   true|          3|          60.0|           0|            0|               10.0|            SAO JOSE|            SC|              BR|\n",
      "|0009fce56b3f5a32a...|            SAO PAULO|                      BR|                    SP|[{\"name\": \"GALETO...|e9808433ad0812980...|2019-01-12T21:40:...|52102d80d1ef8844c...|          false|                NULL|              45.2|        ANDROID|   pt-br|2018-04-06 04:25:...|  true|  control|2017-01-20 13:13:...|   true|          4|          80.0|          20|            0|               10.0|           SAO PAULO|            SP|              BR|\n",
      "|000ac4b0d62aaf489...|            SAO PAULO|                      BR|                    SP|[{\"name\": \"PORÇÃO...|06f331f426e4a05a9...|2019-01-23T00:04:...|0d32874ca61ae0a2d...|          false|                NULL|             86.03|            IOS|   pt-br|2018-04-03 00:17:...|  true|  control|2017-01-20 13:13:...|  false|          4|          80.0|          20|           40|                0.0|           SAO PAULO|            SP|              BR|\n",
      "|0010c10673b278b9f...|              DIADEMA|                      BR|                    SP|[{\"name\": \"MÉDIA ...|be134facabdcdbf2c...|2019-01-20T22:51:...|8fd530ab386a3fe91...|          false|                NULL|              65.4|        DESKTOP|   pt-br|2018-04-05 14:26:...|  true|   target|2017-01-20 13:15:...|   true|          4|          80.0|           0|            0|               15.0|SAO BERNARDO DO C...|            SP|              BR|\n",
      "|0010c10673b278b9f...|            SAO PAULO|                      BR|                    SP|[{\"name\": \"REFRIG...|1d050b212a12b4caa...|2019-01-28T22:51:...|b0d38e1fd6ad0a41c...|          false|                NULL|             100.5|        DESKTOP|   pt-br|2018-04-05 14:26:...|  true|   target|2017-01-20 13:13:...|   true|          4|          80.0|           0|           30|               24.0|           SAO PAULO|            SP|              BR|\n",
      "|0010c10673b278b9f...|              DIADEMA|                      BR|                    SP|[{\"name\": \"BROTO\"...|4130cf4500b2c1d74...|2019-01-18T23:54:...|f2819d00e70b4823f...|          false|                NULL|             73.83|        DESKTOP|   pt-br|2018-04-05 14:26:...|  true|   target|2017-01-20 13:15:...|   true|          3|          60.0|           0|            0|               30.0|             DIADEMA|            SP|              BR|\n",
      "|001566671db5d822e...|       RIO DE JANEIRO|                      BR|                    RJ|[{\"name\": \"HOT SP...|55cca4d45b19e1799...|2019-01-13T16:19:...|ae696ad349518cbcb...|          false|                NULL|              24.4|            IOS|   pt-br|2018-03-19 14:22:...|  true|  control|2017-01-20 13:14:...|  false|          1|          30.0|           0|           40|               20.0|      RIO DE JANEIRO|            RJ|              BR|\n",
      "|001566671db5d822e...|       RIO DE JANEIRO|                      BR|                    RJ|[{\"name\": \"Salada...|2624028d9c00e80ad...|2019-01-04T16:19:...|6a5db37684bcea311...|          false|                NULL|              19.9|            IOS|   pt-br|2018-03-19 14:22:...|  true|  control|2017-01-20 13:14:...|   true|          2|          40.0|           0|           45|                0.0|      RIO DE JANEIRO|            RJ|              BR|\n",
      "|0015f1e5b35a3d7b6...|       RIO DE JANEIRO|                      BR|                    RJ|[{\"name\": \"GIGANT...|059fa9f3ec70af529...|2019-01-31T23:22:...|8d714dd2e916d88a7...|          false|                NULL|              49.9|            IOS|   pt-br|2018-04-06 00:09:...|  true|   target|2017-01-20 13:15:...|   true|          4|          80.0|          15|           15|                0.0|      RIO DE JANEIRO|            RJ|              BR|\n",
      "|00173c4d39960ee57...|             LONDRINA|                      BR|                    PR|[{\"name\": \"FRANGO...|c82bf24729962df79...|2019-01-19T22:48:...|1a5c30ab47a83d0aa...|          false|                NULL|              46.9|        DESKTOP|   pt-br|2018-04-06 02:01:...|  true|  control|2017-01-20 13:14:...|   true|          1|          30.0|           0|            0|               10.0|            LONDRINA|            PR|              BR|\n",
      "|00173c4d39960ee57...|             LONDRINA|                      BR|                    PR|[{\"name\": \"Dog Si...|beef912cfbf0fcb68...|2019-01-18T01:00:...|134e61b67c588bf38...|          false|                NULL|              49.5|        DESKTOP|   pt-br|2018-04-06 02:01:...|  true|  control|2017-01-20 13:14:...|   true|          1|          30.0|          20|            0|               15.0|            LONDRINA|            PR|              BR|\n",
      "|00173c4d39960ee57...|             LONDRINA|                      BR|                    PR|[{\"name\": \"Dog Fr...|beef912cfbf0fcb68...|2019-01-20T00:31:...|affbaec6705086aec...|          false|                NULL|              42.0|        DESKTOP|   pt-br|2018-04-06 02:01:...|  true|  control|2017-01-20 13:14:...|   true|          1|          30.0|          20|            0|               15.0|            LONDRINA|            PR|              BR|\n",
      "+--------------------+---------------------+------------------------+----------------------+--------------------+--------------------+--------------------+--------------------+---------------+--------------------+------------------+---------------+--------+--------------------+------+---------+--------------------+-------+-----------+--------------+------------+-------------+-------------------+--------------------+--------------+----------------+\n",
      "only showing top 20 rows\n",
      "\n"
     ]
    }
   ],
   "source": [
    "# Vamos remover algumas colunas que não serão necessárias no contexto do teste A/B\n",
    "colunas_para_remover = [\n",
    "    \"customer_name\",\n",
    "    \"delivery_address_district\",\n",
    "    \"delivery_address_external_id\",\n",
    "    \"delivery_address_latitude\",\n",
    "    \"delivery_address_longitude\",\n",
    "    \"delivery_address_zip_code\",\n",
    "    \"merchant_latitude\",\n",
    "    \"merchant_longitude\",\n",
    "    \"merchant_timezone\",\n",
    "    \"customer_phone_area\",\n",
    "    \"customer_phone_number\",\n",
    "    \"id\",\n",
    "    \"merchant_zip_code\"\n",
    "]\n",
    "\n",
    "df_order_ab_test_merchant_clear_columns = df_order_ab_test_merchant.drop(*colunas_para_remover)\n",
    "df_order_ab_test_merchant_clear_columns.show()"
   ]
  },
  {
   "cell_type": "code",
   "execution_count": 33,
   "metadata": {
    "colab": {
     "base_uri": "https://localhost:8080/",
     "height": 35
    },
    "id": "c1fJ1vBEIrQf",
    "outputId": "68409054-0515-40ed-f4c9-0341150e4290"
   },
   "outputs": [
    {
     "data": {
      "application/vnd.google.colaboratory.intrinsic+json": {
       "type": "string"
      },
      "text/plain": [
       "'/content/df_order_ab_test_merchant_clear_columns.zip'"
      ]
     },
     "execution_count": 33,
     "metadata": {},
     "output_type": "execute_result"
    }
   ],
   "source": [
    "# Salvando o dataframe df_order_ab_test_merchant_clear_columns em disco para evitar de rodar sempre a parte do ETL\n",
    "df_order_ab_test_merchant_clear_columns.write \\\n",
    "    .mode(\"overwrite\") \\\n",
    "    .option(\"compression\", \"gzip\") \\\n",
    "    .parquet(\"df_order_ab_test_merchant_clear_columns\")\n",
    "shutil.make_archive(\"df_order_ab_test_merchant_clear_columns\", 'zip', \"df_order_ab_test_merchant_clear_columns\")\n",
    "# df_order_ab_test_merchant_clear_columns.columns"
   ]
  },
  {
   "cell_type": "markdown",
   "metadata": {
    "id": "wL9la3kaSM9A"
   },
   "source": [
    "### **Análise de dados**"
   ]
  },
  {
   "cell_type": "markdown",
   "metadata": {
    "id": "IODtp4J1VL2O"
   },
   "source": [
    "### **Colunas do Dataset Final**\n",
    "\n",
    "\n",
    "\n",
    "*   customer_id Identificador do usuário,\n",
    "*   delivery_address_city Cidade de entrega do pedido,\n",
    "* delivery_address_country País da entrega,\n",
    "* delivery_address_state Estado da entrega,\n",
    "* items Itens que compõem o pedido, bem como informações complementares como preço unitário, quantidade, etc.,\n",
    "* merchant_id Identificador do restaurante,\n",
    "* order_created_at Data e hora em que o pedido foi criado,\n",
    "* order_id Identificador do pedido,\n",
    "* order_scheduled Flag indicando se o pedido foi agendado ou não (pedidos agendados são aqueles que o usuário escolheu uma data e hora para a entrega),\n",
    "* order_scheduled_date Data e horário para entrega do\n",
    "* pedido agendado,\n",
    "* order_total_amount Valor total do pedido em Reais,\n",
    "* origin_platform Sistema operacional do dispositivo do usuário,\n",
    "* language Idioma do usuário,\n",
    "* created_at Data e hora em que o usuário foi criado,\n",
    "* active Flag indicando se o usuário está ativo ou não,\n",
    "* is_target Grupo ao qual o usuário pertence ('target' ou 'control'),\n",
    "* created_at_merchant Data e hora em que o restaurante foi criado,\n",
    "* enabled Flag indicando se o restaurante está ativo no iFood ou não,\n",
    "* price_range Classificação de preço do restaurante,\n",
    "* average_ticket Ticket médio dos pedidos no restaurante,\n",
    "* takeout_time é o timestamp em que o pedido foi embalado e ficou disponível para o entregador buscar. (obs. este campo não foi informado no case),\n",
    "* delivery_time Tempo padrão de entrega para pedidos no restaurante,\n",
    "* minimum_order_value Valor mínimo para pedidos no restaurante,\n",
    "* merchant_city Cidade do restaurante,\n",
    "* merchant_state Estado do restaurante,\n",
    "* merchant_country País do restaurante"
   ]
  },
  {
   "cell_type": "code",
   "execution_count": null,
   "metadata": {
    "id": "j6cLZKfQzR38"
   },
   "outputs": [],
   "source": [
    "import zipfile\n",
    "import os\n",
    "\n",
    "# Ao executar pela primeira vez, é obrigatório a execução das células acima\n",
    "# Aqui como opcional, pode-se carregar o ETL na máquina do collab, caso contrário será necessário executar novamente a parte do ETL (todas as células acima).\n",
    "try:\n",
    "    df_order_ab_test_merchant_clear_columns.show(5)\n",
    "\n",
    "except:\n",
    "    with zipfile.ZipFile('df_order_ab_test_merchant_clear_columns.zip', 'r') as zip_ref:\n",
    "        zip_ref.extractall('df_order_ab_test_merchant_clear_columns')\n",
    "    df_order_ab_test_merchant_clear_columns = spark.read.parquet('df_order_ab_test_merchant_clear_columns')"
   ]
  },
  {
   "cell_type": "code",
   "execution_count": 38,
   "metadata": {
    "colab": {
     "base_uri": "https://localhost:8080/"
    },
    "id": "tMcxNoCtVQsg",
    "outputId": "394f8d89-624a-42fd-8e17-6694f372e3aa"
   },
   "outputs": [
    {
     "name": "stdout",
     "output_type": "stream",
     "text": [
      "+---------+------------------+\n",
      "|is_target|      ticket_medio|\n",
      "+---------+------------------+\n",
      "|  control|47.917294188812164|\n",
      "|   target|47.809652936992656|\n",
      "+---------+------------------+\n",
      "\n"
     ]
    }
   ],
   "source": [
    "from pyspark.sql.functions import avg\n",
    "\n",
    "# Valor médio dos pedidos por grupo.\n",
    "df_ticket_medio = df_order_ab_test_merchant_clear_columns.groupBy(\"is_target\") \\\n",
    "    .agg(avg(\"order_total_amount\").alias(\"ticket_medio\"))\n",
    "\n",
    "df_ticket_medio.show()"
   ]
  },
  {
   "cell_type": "code",
   "execution_count": 39,
   "metadata": {
    "colab": {
     "base_uri": "https://localhost:8080/"
    },
    "id": "65ldmRGwWgPr",
    "outputId": "81e96b92-be70-432c-f007-34dbf0d281cd"
   },
   "outputs": [
    {
     "name": "stdout",
     "output_type": "stream",
     "text": [
      "+---------+-------------------------+\n",
      "|is_target|pedidos_medio_por_usuario|\n",
      "+---------+-------------------------+\n",
      "|  control|        2.803428289212653|\n",
      "|   target|        3.177162625100114|\n",
      "+---------+-------------------------+\n",
      "\n"
     ]
    }
   ],
   "source": [
    "# Volume médio de pedidos por usuário\n",
    "df_pedidos_por_usuario = df_order_ab_test_merchant_clear_columns.groupBy(\"is_target\", \"customer_id\") \\\n",
    "    .count() \\\n",
    "    .groupBy(\"is_target\") \\\n",
    "    .agg(avg(\"count\").alias(\"pedidos_medio_por_usuario\"))\n",
    "\n",
    "df_pedidos_por_usuario.show()"
   ]
  },
  {
   "cell_type": "code",
   "execution_count": 40,
   "metadata": {
    "colab": {
     "base_uri": "https://localhost:8080/"
    },
    "id": "2goEnx4mZz3M",
    "outputId": "185108c3-b24d-406c-bb51-bcedf366b535"
   },
   "outputs": [
    {
     "name": "stdout",
     "output_type": "stream",
     "text": [
      "+---------+--------------------+\n",
      "|is_target|        pct_agendado|\n",
      "+---------+--------------------+\n",
      "|  control|1.613235259186533...|\n",
      "|   target|1.299253352991601...|\n",
      "+---------+--------------------+\n",
      "\n"
     ]
    }
   ],
   "source": [
    "from pyspark.sql.functions import mean, col\n",
    "\n",
    "# % de usuários que agendam pedidos\n",
    "df_agendamento = df_order_ab_test_merchant_clear_columns.groupBy(\"is_target\") \\\n",
    "    .agg(mean(col(\"order_scheduled\").cast(\"int\")).alias(\"pct_agendado\"))\n",
    "\n",
    "df_agendamento.show()"
   ]
  },
  {
   "cell_type": "code",
   "execution_count": 41,
   "metadata": {
    "colab": {
     "base_uri": "https://localhost:8080/"
    },
    "id": "4tObqcoybSdW",
    "outputId": "df2066c9-6a43-4b21-cc42-2fe1f46fb0a4"
   },
   "outputs": [
    {
     "name": "stdout",
     "output_type": "stream",
     "text": [
      "+---------+------------------+\n",
      "|is_target|  pct_reincidentes|\n",
      "+---------+------------------+\n",
      "|  control|0.4762591804402172|\n",
      "|   target| 0.576159356400437|\n",
      "+---------+------------------+\n",
      "\n"
     ]
    }
   ],
   "source": [
    "from pyspark.sql.functions import countDistinct\n",
    "\n",
    "# % de usuários que voltaram a fazer pedidos (múltiplos pedidos em datas diferentes)\n",
    "df_reativacao = df_order_ab_test_merchant_clear_columns.groupBy(\"is_target\", \"customer_id\") \\\n",
    "    .agg(countDistinct(\"order_created_at\").alias(\"num_dias_com_pedido\"))\n",
    "\n",
    "# Considerarando reativado quem fez pedido em mais de 1 dia\n",
    "df_reativados = df_reativacao.withColumn(\"reativado\", (col(\"num_dias_com_pedido\") > 1).cast(\"int\"))\n",
    "\n",
    "df_reativados.groupBy(\"is_target\") \\\n",
    "    .agg(avg(\"reativado\").alias(\"pct_reincidentes\")) \\\n",
    "    .show()"
   ]
  },
  {
   "cell_type": "code",
   "execution_count": 42,
   "metadata": {
    "id": "ahyCLMrrdojY"
   },
   "outputs": [],
   "source": [
    "df_amostra = df_order_ab_test_merchant_clear_columns.select(\"is_target\", \"order_total_amount\") \\\n",
    "    .filter(col(\"order_total_amount\").isNotNull()) \\\n",
    "    .sample(False, 0.1, seed=42)  # amostra de 10% (ajuste conforme o tamanho, o PySpark não possui módulos para calcular o teste t)"
   ]
  },
  {
   "cell_type": "code",
   "execution_count": 43,
   "metadata": {
    "id": "-IORpMFOgVRd"
   },
   "outputs": [],
   "source": [
    "# Converte para pandas\n",
    "df_pd = df_amostra.toPandas()"
   ]
  },
  {
   "cell_type": "code",
   "execution_count": 44,
   "metadata": {
    "id": "bfbln_nMgYsv"
   },
   "outputs": [],
   "source": [
    "grupo_target = df_pd[df_pd[\"is_target\"] == \"target\"][\"order_total_amount\"]\n",
    "grupo_control = df_pd[df_pd[\"is_target\"] == \"control\"][\"order_total_amount\"]"
   ]
  },
  {
   "cell_type": "code",
   "execution_count": 45,
   "metadata": {
    "colab": {
     "base_uri": "https://localhost:8080/"
    },
    "id": "qOjuSXQ-gcHd",
    "outputId": "481886e0-69a1-4fff-c320-f188818879f9"
   },
   "outputs": [
    {
     "name": "stdout",
     "output_type": "stream",
     "text": [
      "T-statistic: 0.4233\n",
      "P-value: 0.6721\n",
      "Não há diferença estatisticamente significativa no ticket médio.\n"
     ]
    }
   ],
   "source": [
    "from scipy.stats import ttest_ind\n",
    "\n",
    "t_stat, p_val = ttest_ind(grupo_target, grupo_control, equal_var=False)\n",
    "\n",
    "print(f\"T-statistic: {t_stat:.4f}\")\n",
    "print(f\"P-value: {p_val:.4f}\")\n",
    "\n",
    "if p_val < 0.05:\n",
    "    print(\"Diferença significativa no ticket médio entre os grupos.\")\n",
    "else:\n",
    "    print(\"Não há diferença estatisticamente significativa no ticket médio.\")\n"
   ]
  },
  {
   "cell_type": "code",
   "execution_count": null,
   "metadata": {
    "id": "WILJO8-4gdr8"
   },
   "outputs": [],
   "source": [
    "# # Teste t para pedidos reativados\n",
    "\n",
    "# from pyspark.sql.functions import countDistinct, col\n",
    "\n",
    "# df_reativacao = df_order_ab_test_merchant_clear_columns.groupBy(\"is_target\", \"customer_id\") \\\n",
    "#     .agg(countDistinct(\"order_created_at\").alias(\"num_dias_com_pedido\"))\n",
    "\n",
    "# df_reativacao = df_reativacao.withColumn(\n",
    "#     \"reativado\", (col(\"num_dias_com_pedido\") > 1).cast(\"int\")\n",
    "# )\n",
    "\n",
    "# df_reativacao_pd = df_reativacao.select(\"is_target\", \"reativado\").toPandas()\n",
    "\n",
    "# reat_target = df_reativacao_pd[df_reativacao_pd[\"is_target\"] == \"target\"][\"reativado\"]\n",
    "# reat_control = df_reativacao_pd[df_reativacao_pd[\"is_target\"] == \"control\"][\"reativado\"]\n",
    "\n",
    "# from scipy.stats import ttest_ind\n",
    "\n",
    "# t_stat, p_val = ttest_ind(reat_target, reat_control, equal_var=False)\n",
    "\n",
    "# print(f\"T-statistic: {t_stat:.4f}\")\n",
    "# print(f\"P-value: {p_val:.4f}\")\n",
    "\n",
    "# if p_val < 0.05:\n",
    "#     print(\"Diferença significativa na reativação entre os grupos.\")\n",
    "# else:\n",
    "#     print(\"Não há diferença estatisticamente significativa na reativação.\")\n"
   ]
  },
  {
   "cell_type": "code",
   "execution_count": 46,
   "metadata": {
    "colab": {
     "base_uri": "https://localhost:8080/"
    },
    "id": "7uLuHx4licCq",
    "outputId": "f6df84b7-5526-4f43-8c53-387f4b90c22b"
   },
   "outputs": [
    {
     "name": "stdout",
     "output_type": "stream",
     "text": [
      "Z-statistic: 89.3702\n",
      "P-value: 0.0000\n",
      "Diferença significativa na proporção de usuários reativados entre os grupos.\n"
     ]
    }
   ],
   "source": [
    "# Teste z para pedidos reativados (variável binária)\n",
    "\n",
    "from pyspark.sql.functions import countDistinct, col\n",
    "\n",
    "df_reativacao = df_order_ab_test_merchant_clear_columns.groupBy(\"is_target\", \"customer_id\") \\\n",
    "    .agg(countDistinct(\"order_created_at\").alias(\"num_dias_com_pedido\"))\n",
    "\n",
    "df_reativacao = df_reativacao.withColumn(\n",
    "    \"reativado\", (col(\"num_dias_com_pedido\") > 1).cast(\"int\")\n",
    ")\n",
    "\n",
    "df_reativacao_pd = df_reativacao.select(\"is_target\", \"reativado\").toPandas()\n",
    "\n",
    "# Contando o total e os reativados em cada grupo\n",
    "controles = df_reativacao_pd[df_reativacao_pd[\"is_target\"] == \"control\"]\n",
    "targets = df_reativacao_pd[df_reativacao_pd[\"is_target\"] == \"target\"]\n",
    "\n",
    "n_control = len(controles)\n",
    "x_control = controles[\"reativado\"].sum()\n",
    "\n",
    "n_target = len(targets)\n",
    "x_target = targets[\"reativado\"].sum()\n",
    "\n",
    "from statsmodels.stats.proportion import proportions_ztest\n",
    "\n",
    "# Dados para o teste\n",
    "counts = [x_target, x_control]       # sucessos (reativações)\n",
    "nobs = [n_target, n_control]         # total de usuários\n",
    "\n",
    "# Teste bicaudal\n",
    "z_stat, p_val = proportions_ztest(count=counts, nobs=nobs)\n",
    "\n",
    "print(f\"Z-statistic: {z_stat:.4f}\")\n",
    "print(f\"P-value: {p_val:.4f}\")\n",
    "\n",
    "if p_val < 0.05:\n",
    "    print(\"Diferença significativa na proporção de usuários reativados entre os grupos.\")\n",
    "else:\n",
    "    print(\"Não há diferença estatisticamente significativa na proporção de reativação.\")\n",
    "\n"
   ]
  },
  {
   "cell_type": "code",
   "execution_count": 47,
   "metadata": {
    "colab": {
     "base_uri": "https://localhost:8080/"
    },
    "id": "mjsO_TxpDKGj",
    "outputId": "d63a0d5a-08bc-4481-8e78-b2cd6fdf074a"
   },
   "outputs": [
    {
     "name": "stdout",
     "output_type": "stream",
     "text": [
      "+---------+-------------------+\n",
      "|is_target|num_usuarios_unicos|\n",
      "+---------+-------------------+\n",
      "|  control|             360413|\n",
      "|   target|             445743|\n",
      "+---------+-------------------+\n",
      "\n"
     ]
    }
   ],
   "source": [
    "from pyspark.sql.functions import countDistinct\n",
    "\n",
    "# Contagem de usuários em cada grupo\n",
    "df_order_ab_test_merchant_clear_columns.groupBy(\"is_target\") \\\n",
    "    .agg(countDistinct(\"customer_id\").alias(\"num_usuarios_unicos\")) \\\n",
    "    .show()\n"
   ]
  },
  {
   "cell_type": "code",
   "execution_count": 48,
   "metadata": {
    "colab": {
     "base_uri": "https://localhost:8080/"
    },
    "id": "Jztil2xNEWwW",
    "outputId": "971526d8-c421-433b-e17e-2f5bedff9f8f"
   },
   "outputs": [
    {
     "name": "stdout",
     "output_type": "stream",
     "text": [
      "+---------------------------+\n",
      "|media_pedidos_por_reativado|\n",
      "+---------------------------+\n",
      "|          4.781916544720855|\n",
      "+---------------------------+\n",
      "\n"
     ]
    }
   ],
   "source": [
    "from pyspark.sql.functions import col, countDistinct\n",
    "\n",
    "# Contando o número de dias com pedido por usuário\n",
    "df_repeticao = df_order_ab_test_merchant_clear_columns.groupBy(\"customer_id\") \\\n",
    "    .agg(countDistinct(\"order_created_at\").alias(\"dias_com_pedido\"))\n",
    "\n",
    "# Identificando usuários reativados (mais de 1 dia com pedido)\n",
    "df_reativados = df_repeticao.filter(col(\"dias_com_pedido\") > 1)\n",
    "\n",
    "# Juntando com o DataFrame original para filtrar apenas os pedidos desses usuários\n",
    "df_pedidos_reativados = df_order_ab_test_merchant_clear_columns.join(\n",
    "    df_reativados.select(\"customer_id\"), on=\"customer_id\", how=\"inner\"\n",
    ")\n",
    "\n",
    "# Contando pedidos por usuário reativado\n",
    "df_media_pedidos = df_pedidos_reativados.groupBy(\"customer_id\") \\\n",
    "    .count() \\\n",
    "    .agg({\"count\": \"avg\"}) \\\n",
    "    .withColumnRenamed(\"avg(count)\", \"media_pedidos_por_reativado\")\n",
    "\n",
    "df_media_pedidos.show()\n"
   ]
  },
  {
   "cell_type": "code",
   "execution_count": 49,
   "metadata": {
    "colab": {
     "base_uri": "https://localhost:8080/"
    },
    "id": "-vTBwSqSEXYO",
    "outputId": "f1766937-a484-4365-f800-15bb53160170"
   },
   "outputs": [
    {
     "name": "stdout",
     "output_type": "stream",
     "text": [
      "+-----------------------+\n",
      "|ticket_medio_reativados|\n",
      "+-----------------------+\n",
      "|      47.86354821570643|\n",
      "+-----------------------+\n",
      "\n"
     ]
    }
   ],
   "source": [
    "from pyspark.sql.functions import avg, countDistinct, col\n",
    "\n",
    "# Identificar usuários com pedidos em mais de 1 dia\n",
    "df_dias = df_order_ab_test_merchant_clear_columns.groupBy(\"customer_id\") \\\n",
    "    .agg(countDistinct(\"order_created_at\").alias(\"dias_com_pedido\"))\n",
    "\n",
    "df_reativados = df_dias.filter(col(\"dias_com_pedido\") > 1)\n",
    "\n",
    "# Filtrar os pedidos dos usuários reativados\n",
    "df_pedidos_reativados = df_order_ab_test_merchant_clear_columns.join(\n",
    "    df_reativados.select(\"customer_id\"), on=\"customer_id\", how=\"inner\"\n",
    ")\n",
    "\n",
    "# Calcular ticket médio\n",
    "df_ticket_medio_reativados = df_pedidos_reativados.agg(\n",
    "    avg(\"order_total_amount\").alias(\"ticket_medio_reativados\")\n",
    ")\n",
    "\n",
    "df_ticket_medio_reativados.show()\n"
   ]
  },
  {
   "cell_type": "code",
   "execution_count": 50,
   "metadata": {
    "colab": {
     "base_uri": "https://localhost:8080/"
    },
    "id": "jng9HwaXE-5p",
    "outputId": "7c491535-5511-488d-e331-49c4e3635a8a"
   },
   "outputs": [
    {
     "name": "stdout",
     "output_type": "stream",
     "text": [
      "+---------+---------------+------------------+\n",
      "|is_target|origin_platform|      ticket_medio|\n",
      "+---------+---------------+------------------+\n",
      "|  control|           NULL|              50.0|\n",
      "|  control|        ANDROID| 43.44532666705258|\n",
      "|  control|        DESKTOP| 46.30479106031281|\n",
      "|  control|            IOS|52.661987820068575|\n",
      "|  control|  WINDOWS_PHONE| 39.59971987051812|\n",
      "|   target|        ANDROID| 43.02639192576987|\n",
      "|   target|        DESKTOP| 46.36331193965382|\n",
      "|   target|            IOS| 52.76396343255716|\n",
      "|   target|  WINDOWS_PHONE|40.365826558265674|\n",
      "+---------+---------------+------------------+\n",
      "\n"
     ]
    }
   ],
   "source": [
    "from pyspark.sql.functions import avg, col\n",
    "\n",
    "# Calculando ticket médio por plataforma e grupo (target ou control)\n",
    "df_order_ab_test_merchant_clear_columns.groupBy(\"is_target\", \"origin_platform\") \\\n",
    "    .agg(avg(col(\"order_total_amount\")).alias(\"ticket_medio\")) \\\n",
    "    .orderBy(\"is_target\", \"origin_platform\") \\\n",
    "    .show()\n"
   ]
  },
  {
   "cell_type": "code",
   "execution_count": 51,
   "metadata": {
    "colab": {
     "base_uri": "https://localhost:8080/"
    },
    "id": "ZybZIk4tdwxt",
    "outputId": "7838182d-ab38-4d5e-9812-28b3fabef0bc"
   },
   "outputs": [
    {
     "name": "stdout",
     "output_type": "stream",
     "text": [
      "T-statistic: 2.1397\n",
      "P-value: 0.0324\n",
      "Diferença significativa no ticket médio entre os grupos para WINDOWS_PHONE.\n"
     ]
    }
   ],
   "source": [
    "from pyspark.sql.functions import col\n",
    "from scipy.stats import ttest_ind\n",
    "\n",
    "# Filtrando para plataforma WINDOWS_PHONE\n",
    "df_windows = df_order_ab_test_merchant_clear_columns.filter(\n",
    "    col(\"origin_platform\") == \"WINDOWS_PHONE\"\n",
    ").select(\"is_target\", \"order_total_amount\")\n",
    "\n",
    "# Convertendo para pandas\n",
    "df_windows_pd = df_windows.toPandas()\n",
    "\n",
    "# Separar os grupos\n",
    "grupo_target = df_windows_pd[df_windows_pd[\"is_target\"] == \"target\"][\"order_total_amount\"]\n",
    "grupo_control = df_windows_pd[df_windows_pd[\"is_target\"] == \"control\"][\"order_total_amount\"]\n",
    "\n",
    "# Aplicar o teste t\n",
    "t_stat, p_val = ttest_ind(grupo_target, grupo_control, equal_var=False)\n",
    "\n",
    "print(f\"T-statistic: {t_stat:.4f}\")\n",
    "print(f\"P-value: {p_val:.4f}\")\n",
    "\n",
    "if p_val < 0.05:\n",
    "    print(\"Diferença significativa no ticket médio entre os grupos para WINDOWS_PHONE.\")\n",
    "else:\n",
    "    print(\"Não há diferença estatisticamente significativa no ticket médio para WINDOWS_PHONE.\")\n"
   ]
  },
  {
   "cell_type": "code",
   "execution_count": 52,
   "metadata": {
    "colab": {
     "base_uri": "https://localhost:8080/"
    },
    "id": "m-X1mvere_HF",
    "outputId": "3caefe89-31c7-4a92-ef13-b26c651dbf73"
   },
   "outputs": [
    {
     "name": "stdout",
     "output_type": "stream",
     "text": [
      "\n",
      "📍 Estado: SC\n",
      "+---------+-----------------+\n",
      "|is_target|     ticket_medio|\n",
      "+---------+-----------------+\n",
      "|  control| 49.6472029871009|\n",
      "|   target|42.41282780163936|\n",
      "+---------+-----------------+\n",
      "\n",
      "\n",
      "📍 Estado: PI\n",
      "+---------+------------------+\n",
      "|is_target|      ticket_medio|\n",
      "+---------+------------------+\n",
      "|  control|  40.1015037593985|\n",
      "|   target|40.490810810810814|\n",
      "+---------+------------------+\n",
      "\n",
      "\n",
      "📍 Estado: AM\n",
      "+---------+-----------------+\n",
      "|is_target|     ticket_medio|\n",
      "+---------+-----------------+\n",
      "|  control|44.72955129721623|\n",
      "|   target|44.82765830138224|\n",
      "+---------+-----------------+\n",
      "\n",
      "\n",
      "📍 Estado: GO\n",
      "+---------+-----------------+\n",
      "|is_target|     ticket_medio|\n",
      "+---------+-----------------+\n",
      "|  control|42.13762925261211|\n",
      "|   target|41.83190802892648|\n",
      "+---------+-----------------+\n",
      "\n",
      "\n",
      "📍 Estado: MT\n",
      "+---------+------------------+\n",
      "|is_target|      ticket_medio|\n",
      "+---------+------------------+\n",
      "|  control| 39.83599397590361|\n",
      "|   target|48.090502512562786|\n",
      "+---------+------------------+\n",
      "\n",
      "\n",
      "📍 Estado: SP\n",
      "+---------+-----------------+\n",
      "|is_target|     ticket_medio|\n",
      "+---------+-----------------+\n",
      "|  control|51.01956099699741|\n",
      "|   target| 51.0942699075872|\n",
      "+---------+-----------------+\n",
      "\n",
      "\n",
      "📍 Estado: ES\n",
      "+---------+------------------+\n",
      "|is_target|      ticket_medio|\n",
      "+---------+------------------+\n",
      "|  control| 39.42755133147974|\n",
      "|   target|39.351618739112155|\n",
      "+---------+------------------+\n",
      "\n",
      "\n",
      "📍 Estado: PB\n",
      "+---------+-----------------+\n",
      "|is_target|     ticket_medio|\n",
      "+---------+-----------------+\n",
      "|  control|37.98881603596848|\n",
      "|   target|37.02984704404753|\n",
      "+---------+-----------------+\n",
      "\n",
      "\n",
      "📍 Estado: RS\n",
      "+---------+-----------------+\n",
      "|is_target|     ticket_medio|\n",
      "+---------+-----------------+\n",
      "|  control|44.00419616791313|\n",
      "|   target|43.78624364613856|\n",
      "+---------+-----------------+\n",
      "\n",
      "\n",
      "📍 Estado: MS\n",
      "+---------+-----------------+\n",
      "|is_target|     ticket_medio|\n",
      "+---------+-----------------+\n",
      "|  control|37.11026599947326|\n",
      "|   target|38.42290830381742|\n",
      "+---------+-----------------+\n",
      "\n",
      "\n",
      "📍 Estado: AL\n",
      "+---------+-----------------+\n",
      "|is_target|     ticket_medio|\n",
      "+---------+-----------------+\n",
      "|  control|41.20372148084381|\n",
      "|   target|39.56761582585689|\n",
      "+---------+-----------------+\n",
      "\n",
      "\n",
      "📍 Estado: MG\n",
      "+---------+-----------------+\n",
      "|is_target|     ticket_medio|\n",
      "+---------+-----------------+\n",
      "|  control|37.87381498947694|\n",
      "|   target|37.45572862032917|\n",
      "+---------+-----------------+\n",
      "\n",
      "\n",
      "📍 Estado: PA\n",
      "+---------+------------------+\n",
      "|is_target|      ticket_medio|\n",
      "+---------+------------------+\n",
      "|  control| 46.24612367547058|\n",
      "|   target|45.902304996608706|\n",
      "+---------+------------------+\n",
      "\n",
      "\n",
      "📍 Estado: BA\n",
      "+---------+-----------------+\n",
      "|is_target|     ticket_medio|\n",
      "+---------+-----------------+\n",
      "|  control|51.20444905416072|\n",
      "|   target|50.76399651249645|\n",
      "+---------+-----------------+\n",
      "\n",
      "\n",
      "📍 Estado: SE\n",
      "+---------+-----------------+\n",
      "|is_target|     ticket_medio|\n",
      "+---------+-----------------+\n",
      "|  control|36.68649410558682|\n",
      "|   target|35.50748332748327|\n",
      "+---------+-----------------+\n",
      "\n",
      "\n",
      "📍 Estado: PE\n",
      "+---------+-----------------+\n",
      "|is_target|     ticket_medio|\n",
      "+---------+-----------------+\n",
      "|  control|44.86536618669283|\n",
      "|   target|44.78569502810779|\n",
      "+---------+-----------------+\n",
      "\n",
      "\n",
      "📍 Estado: CE\n",
      "+---------+------------------+\n",
      "|is_target|      ticket_medio|\n",
      "+---------+------------------+\n",
      "|  control|39.449642078526495|\n",
      "|   target|39.511053738109126|\n",
      "+---------+------------------+\n",
      "\n",
      "\n",
      "📍 Estado: RN\n",
      "+---------+-----------------+\n",
      "|is_target|     ticket_medio|\n",
      "+---------+-----------------+\n",
      "|  control|39.77170787998691|\n",
      "|   target|39.24719284294242|\n",
      "+---------+-----------------+\n",
      "\n",
      "\n",
      "📍 Estado: RJ\n",
      "+---------+-----------------+\n",
      "|is_target|     ticket_medio|\n",
      "+---------+-----------------+\n",
      "|  control|51.62846213703808|\n",
      "|   target|51.90213119135142|\n",
      "+---------+-----------------+\n",
      "\n",
      "\n",
      "📍 Estado: MA\n",
      "+---------+-----------------+\n",
      "|is_target|     ticket_medio|\n",
      "+---------+-----------------+\n",
      "|  control|47.10862204724405|\n",
      "|   target|45.18469425287353|\n",
      "+---------+-----------------+\n",
      "\n",
      "\n",
      "📍 Estado: AC\n",
      "+---------+------------+\n",
      "|is_target|ticket_medio|\n",
      "+---------+------------+\n",
      "|   target|        59.0|\n",
      "|  control|        10.0|\n",
      "+---------+------------+\n",
      "\n",
      "\n",
      "📍 Estado: DF\n",
      "+---------+-----------------+\n",
      "|is_target|     ticket_medio|\n",
      "+---------+-----------------+\n",
      "|  control|44.54602363543513|\n",
      "|   target|44.74075935957191|\n",
      "+---------+-----------------+\n",
      "\n",
      "\n",
      "📍 Estado: PR\n",
      "+---------+-----------------+\n",
      "|is_target|     ticket_medio|\n",
      "+---------+-----------------+\n",
      "|  control|41.44672616231567|\n",
      "|   target|41.33195857700692|\n",
      "+---------+-----------------+\n",
      "\n"
     ]
    }
   ],
   "source": [
    "from pyspark.sql.functions import col, avg\n",
    "\n",
    "# Obtendo a lista de estados únicos\n",
    "estados = [row[\"delivery_address_state\"] for row in df_order_ab_test_merchant_clear_columns.select(\"delivery_address_state\").distinct().collect()]\n",
    "\n",
    "# Loop pelos estados e calcular o ticket médio por grupo (is_target)\n",
    "for estado in estados:\n",
    "    print(f\"\\n📍 Estado: {estado}\")\n",
    "\n",
    "    df_estado = df_order_ab_test_merchant_clear_columns.filter(\n",
    "        col(\"delivery_address_state\") == estado\n",
    "    )\n",
    "\n",
    "    df_resultado = df_estado.groupBy(\"is_target\") \\\n",
    "        .agg(avg(\"order_total_amount\").alias(\"ticket_medio\"))\n",
    "\n",
    "    df_resultado.show()\n"
   ]
  },
  {
   "cell_type": "code",
   "execution_count": 53,
   "metadata": {
    "colab": {
     "base_uri": "https://localhost:8080/"
    },
    "id": "HhPbuIqagPzM",
    "outputId": "b22c9c1b-8e59-4e89-e424-5e11ec46a83f"
   },
   "outputs": [
    {
     "name": "stdout",
     "output_type": "stream",
     "text": [
      "T-statistic: nan\n",
      "P-value: nan\n",
      "Não há diferença estatisticamente significativa no ticket médio para Acre.\n"
     ]
    }
   ],
   "source": [
    "from pyspark.sql.functions import col\n",
    "from scipy.stats import ttest_ind\n",
    "\n",
    "# 1. Filtrar para plataforma WINDOWS_PHONE\n",
    "df_windows = df_order_ab_test_merchant_clear_columns.filter(\n",
    "    col(\"delivery_address_state\") == \"AC\"\n",
    ").select(\"is_target\", \"order_total_amount\")\n",
    "\n",
    "# 2. Converter para pandas\n",
    "df_windows_pd = df_windows.toPandas()\n",
    "\n",
    "# 3. Separar os grupos\n",
    "grupo_target = df_windows_pd[df_windows_pd[\"is_target\"] == \"target\"][\"order_total_amount\"]\n",
    "grupo_control = df_windows_pd[df_windows_pd[\"is_target\"] == \"control\"][\"order_total_amount\"]\n",
    "\n",
    "# 4. Aplicar o teste t\n",
    "t_stat, p_val = ttest_ind(grupo_target, grupo_control, equal_var=False)\n",
    "\n",
    "print(f\"T-statistic: {t_stat:.4f}\")\n",
    "print(f\"P-value: {p_val:.4f}\")\n",
    "\n",
    "if p_val < 0.05:\n",
    "    print(\"Diferença significativa no ticket médio entre os grupos para Acre.\")\n",
    "else:\n",
    "    print(\"Não há diferença estatisticamente significativa no ticket médio para Acre.\")\n"
   ]
  },
  {
   "cell_type": "code",
   "execution_count": 54,
   "metadata": {
    "colab": {
     "base_uri": "https://localhost:8080/"
    },
    "id": "7Oy1vEJrhZaT",
    "outputId": "7ace68f3-faba-4afb-db9a-4916a53bedcf"
   },
   "outputs": [
    {
     "name": "stdout",
     "output_type": "stream",
     "text": [
      "+---------+-------------------+------------------+\n",
      "|is_target|anos_desde_cadastro|ticket_medio      |\n",
      "+---------+-------------------+------------------+\n",
      "|control  |0                  |46.914980084119684|\n",
      "|target   |0                  |46.73190121983342 |\n",
      "|control  |1                  |49.05659743147708 |\n",
      "|target   |1                  |48.979091809876365|\n",
      "+---------+-------------------+------------------+\n",
      "\n"
     ]
    }
   ],
   "source": [
    "from pyspark.sql.functions import col, datediff, floor\n",
    "\n",
    "# Calculando a diferença em dias e converter para anos\n",
    "df_com_anos = df_order_ab_test_merchant_clear_columns.withColumn(\n",
    "    \"anos_desde_cadastro\",\n",
    "    floor(datediff(col(\"order_created_at\"), col(\"created_at\")) / 365)\n",
    ")\n",
    "\n",
    "# Agrupar por is_target e anos desde o cadastro\n",
    "df_ticket_medio_por_ano = df_com_anos.groupBy(\"is_target\", \"anos_desde_cadastro\") \\\n",
    "    .agg(avg(\"order_total_amount\").alias(\"ticket_medio\")) \\\n",
    "    .orderBy(\"anos_desde_cadastro\", \"is_target\")\n",
    "\n",
    "# Exibindo o resultado\n",
    "df_ticket_medio_por_ano.show(truncate=False)\n"
   ]
  },
  {
   "cell_type": "code",
   "execution_count": null,
   "metadata": {
    "id": "r864eifKjSLF"
   },
   "outputs": [],
   "source": []
  }
 ],
 "metadata": {
  "colab": {
   "provenance": []
  },
  "kernelspec": {
   "display_name": "Python 3 (ipykernel)",
   "language": "python",
   "name": "python3"
  },
  "language_info": {
   "codemirror_mode": {
    "name": "ipython",
    "version": 3
   },
   "file_extension": ".py",
   "mimetype": "text/x-python",
   "name": "python",
   "nbconvert_exporter": "python",
   "pygments_lexer": "ipython3",
   "version": "3.9.12"
  }
 },
 "nbformat": 4,
 "nbformat_minor": 1
}
